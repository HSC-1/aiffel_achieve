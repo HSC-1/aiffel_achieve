{
 "cells": [
  {
   "cell_type": "markdown",
   "id": "turkish-bargain",
   "metadata": {},
   "source": [
    "# (E4) 네이버 영화댓글 감성분석\n",
    "### 데이터 준비  \n",
    "데이터는 [naver sentiment movie corpus](https://github.com/e9t/nsmc)에서 master/ratings_train.txt, master/ratings_test.txt 를 다운 받았다  \n"
   ]
  },
  {
   "cell_type": "markdown",
   "id": "dress-mainland",
   "metadata": {},
   "source": [
    "### 데이터 확인\n",
    "데이터를 확인하기위해 pandas를 사용하여 표로 만들어줬다"
   ]
  },
  {
   "cell_type": "code",
   "execution_count": 1,
   "id": "equipped-lunch",
   "metadata": {},
   "outputs": [
    {
     "data": {
      "text/html": [
       "<div>\n",
       "<style scoped>\n",
       "    .dataframe tbody tr th:only-of-type {\n",
       "        vertical-align: middle;\n",
       "    }\n",
       "\n",
       "    .dataframe tbody tr th {\n",
       "        vertical-align: top;\n",
       "    }\n",
       "\n",
       "    .dataframe thead th {\n",
       "        text-align: right;\n",
       "    }\n",
       "</style>\n",
       "<table border=\"1\" class=\"dataframe\">\n",
       "  <thead>\n",
       "    <tr style=\"text-align: right;\">\n",
       "      <th></th>\n",
       "      <th>id</th>\n",
       "      <th>document</th>\n",
       "      <th>label</th>\n",
       "    </tr>\n",
       "  </thead>\n",
       "  <tbody>\n",
       "    <tr>\n",
       "      <th>0</th>\n",
       "      <td>9976970</td>\n",
       "      <td>아 더빙.. 진짜 짜증나네요 목소리</td>\n",
       "      <td>0</td>\n",
       "    </tr>\n",
       "    <tr>\n",
       "      <th>1</th>\n",
       "      <td>3819312</td>\n",
       "      <td>흠...포스터보고 초딩영화줄....오버연기조차 가볍지 않구나</td>\n",
       "      <td>1</td>\n",
       "    </tr>\n",
       "    <tr>\n",
       "      <th>2</th>\n",
       "      <td>10265843</td>\n",
       "      <td>너무재밓었다그래서보는것을추천한다</td>\n",
       "      <td>0</td>\n",
       "    </tr>\n",
       "    <tr>\n",
       "      <th>3</th>\n",
       "      <td>9045019</td>\n",
       "      <td>교도소 이야기구먼 ..솔직히 재미는 없다..평점 조정</td>\n",
       "      <td>0</td>\n",
       "    </tr>\n",
       "    <tr>\n",
       "      <th>4</th>\n",
       "      <td>6483659</td>\n",
       "      <td>사이몬페그의 익살스런 연기가 돋보였던 영화!스파이더맨에서 늙어보이기만 했던 커스틴 ...</td>\n",
       "      <td>1</td>\n",
       "    </tr>\n",
       "  </tbody>\n",
       "</table>\n",
       "</div>"
      ],
      "text/plain": [
       "         id                                           document  label\n",
       "0   9976970                                아 더빙.. 진짜 짜증나네요 목소리      0\n",
       "1   3819312                  흠...포스터보고 초딩영화줄....오버연기조차 가볍지 않구나      1\n",
       "2  10265843                                  너무재밓었다그래서보는것을추천한다      0\n",
       "3   9045019                      교도소 이야기구먼 ..솔직히 재미는 없다..평점 조정      0\n",
       "4   6483659  사이몬페그의 익살스런 연기가 돋보였던 영화!스파이더맨에서 늙어보이기만 했던 커스틴 ...      1"
      ]
     },
     "execution_count": 1,
     "metadata": {},
     "output_type": "execute_result"
    }
   ],
   "source": [
    "import pandas as pd\n",
    "import urllib.request\n",
    "%matplotlib inline\n",
    "import matplotlib.pyplot as plt\n",
    "import re\n",
    "from konlpy.tag import Okt\n",
    "from tensorflow import keras\n",
    "from tensorflow.keras.preprocessing.text import Tokenizer\n",
    "import numpy as np\n",
    "from tensorflow.keras.preprocessing.sequence import pad_sequences\n",
    "from collections import Counter\n",
    "\n",
    "# 데이터를 읽어봅시다. \n",
    "train_data = pd.read_table('~/aiffel/sentiment_classification/ratings_train.txt')\n",
    "test_data = pd.read_table('~/aiffel/sentiment_classification/ratings_test.txt')\n",
    "\n",
    "train_data.head()"
   ]
  },
  {
   "cell_type": "markdown",
   "id": "unnecessary-worcester",
   "metadata": {},
   "source": [
    "### 데이터 로더 구성 \n",
    "\n",
    "- 데이터 중복 상태 점검\n",
    "- stopword 제거\n",
    "- word_to_index 구성\n"
   ]
  },
  {
   "cell_type": "code",
   "execution_count": 2,
   "id": "arbitrary-medline",
   "metadata": {},
   "outputs": [],
   "source": [
    "from konlpy.tag import Mecab\n",
    "tokenizer = Mecab()\n",
    "stopwords = ['의','가','이','은','들','는','좀','잘','걍','과','도','를','으로','자','에','와','한','하다']\n",
    "\n",
    "def load_data(train_data, test_data, num_words=10000):\n",
    "    train_data.drop_duplicates(subset=['document'], inplace=True)\n",
    "    train_data = train_data.dropna(how = 'any') \n",
    "    test_data.drop_duplicates(subset=['document'], inplace=True)\n",
    "    test_data = test_data.dropna(how = 'any') \n",
    "\n",
    "    X_train = []\n",
    "    for sentence in train_data['document']:\n",
    "        temp_X = tokenizer.morphs(sentence) # 토큰화\n",
    "        temp_X = [word for word in temp_X if not word in stopwords] # 불용어 제거\n",
    "        X_train.append(temp_X)\n",
    "\n",
    "    X_test = []\n",
    "    for sentence in test_data['document']:\n",
    "        temp_X = tokenizer.morphs(sentence) # 토큰화\n",
    "        temp_X = [word for word in temp_X if not word in stopwords] # 불용어 제거\n",
    "        X_test.append(temp_X)\n",
    "\n",
    "    words = np.concatenate(X_train).tolist()\n",
    "    counter = Counter(words)\n",
    "    counter = counter.most_common(10000-4)\n",
    "    vocab = ['<PAD>', '<BOS>', '<UNK>', '<UNUSED>'] + [key for key, _ in counter]\n",
    "    word_to_index = {word:index for index, word in enumerate(vocab)}\n",
    "\n",
    "    def wordlist_to_indexlist(wordlist):\n",
    "        return [word_to_index[word] if word in word_to_index else word_to_index['<UNK>'] for word in wordlist]\n",
    "\n",
    "    X_train = list(map(wordlist_to_indexlist, X_train))\n",
    "    X_test = list(map(wordlist_to_indexlist, X_test))\n",
    "\n",
    "    return X_train, np.array(list(train_data['label'])), X_test, np.array(list(test_data['label'])), word_to_index\n",
    "\n",
    "X_train, y_train, X_test, y_test, word_to_index = load_data(train_data, test_data) "
   ]
  },
  {
   "cell_type": "code",
   "execution_count": 3,
   "id": "outer-release",
   "metadata": {},
   "outputs": [],
   "source": [
    "index_to_word = {index:word for word, index in word_to_index.items()}"
   ]
  },
  {
   "cell_type": "markdown",
   "id": "aging-silver",
   "metadata": {},
   "source": [
    "### 인코딩 디코딩 함수 "
   ]
  },
  {
   "cell_type": "code",
   "execution_count": 4,
   "id": "exclusive-cutting",
   "metadata": {},
   "outputs": [],
   "source": [
    "# 문장 1개를 활용할 딕셔너리와 함께 주면, 단어 인덱스 리스트 벡터로 변환해 주는 함수입니다. \n",
    "# 단, 모든 문장은 <BOS>로 시작하는 것으로 합니다. \n",
    "def get_encoded_sentence(sentence, word_to_index):\n",
    "    return [word_to_index['<BOS>']]+[word_to_index[word] if word in word_to_index else word_to_index['<UNK>'] for word in sentence.split()]\n",
    "\n",
    "# 여러 개의 문장 리스트를 한꺼번에 단어 인덱스 리스트 벡터로 encode해 주는 함수입니다. \n",
    "def get_encoded_sentences(sentences, word_to_index):\n",
    "    return [get_encoded_sentence(sentence, word_to_index) for sentence in sentences]\n",
    "\n",
    "# 숫자 벡터로 encode된 문장을 원래대로 decode하는 함수입니다. \n",
    "def get_decoded_sentence(encoded_sentence, index_to_word):\n",
    "    return ' '.join(index_to_word[index] if index in index_to_word else '<UNK>' for index in encoded_sentence[1:])  #[1:]를 통해 <BOS>를 제외\n",
    "\n",
    "# 여러개의 숫자 벡터로 encode된 문장을 한꺼번에 원래대로 decode하는 함수입니다. \n",
    "def get_decoded_sentences(encoded_sentences, index_to_word):\n",
    "    return [get_decoded_sentence(encoded_sentence, index_to_word) for encoded_sentence in encoded_sentences]"
   ]
  },
  {
   "cell_type": "markdown",
   "id": "potential-spider",
   "metadata": {},
   "source": [
    "### 데이터 셋 내 문장 길이 분포 및 지정"
   ]
  },
  {
   "cell_type": "code",
   "execution_count": 5,
   "id": "authorized-calculator",
   "metadata": {},
   "outputs": [
    {
     "name": "stdout",
     "output_type": "stream",
     "text": [
      "문장길이 평균 :  15.969355837799927\n",
      "문장길이 최대 :  116\n",
      "문장길이 표준편차 :  12.843536204665021\n",
      "pad_sequences maxlen :  41\n",
      "전체 문장의 0.9342988343341575%가 maxlen 설정값 이내에 포함됩니다. \n"
     ]
    }
   ],
   "source": [
    "total_data_text = list(X_train) + list(X_test)\n",
    "# 텍스트데이터 문장길이의 리스트를 생성한 후\n",
    "num_tokens = [len(tokens) for tokens in total_data_text]\n",
    "num_tokens = np.array(num_tokens)\n",
    "# 문장길이의 평균값, 최대값, 표준편차를 계산해 본다. \n",
    "print('문장길이 평균 : ', np.mean(num_tokens))\n",
    "print('문장길이 최대 : ', np.max(num_tokens))\n",
    "print('문장길이 표준편차 : ', np.std(num_tokens))\n",
    "\n",
    "# 예를들어, 최대 길이를 (평균 + 2*표준편차)로 한다면,  \n",
    "max_tokens = np.mean(num_tokens) + 2 * np.std(num_tokens)\n",
    "maxlen = int(max_tokens)\n",
    "print('pad_sequences maxlen : ', maxlen)\n",
    "print('전체 문장의 {}%가 maxlen 설정값 이내에 포함됩니다. '.format(np.sum(num_tokens < max_tokens) / len(num_tokens)))\n"
   ]
  },
  {
   "cell_type": "markdown",
   "id": "persistent-berry",
   "metadata": {},
   "source": [
    "### keras.preprocessing.sequence를 이용하여 padding  \n",
    "방식은 pre로 하였다."
   ]
  },
  {
   "cell_type": "code",
   "execution_count": 6,
   "id": "colonial-institution",
   "metadata": {},
   "outputs": [],
   "source": [
    "x_train = keras.preprocessing.sequence.pad_sequences(X_train,\n",
    "                                                       value=word_to_index['<PAD>'],\n",
    "                                                       padding='pre',\n",
    "                                                       maxlen=41)\n",
    "x_test = keras.preprocessing.sequence.pad_sequences(X_test,\n",
    "                                                       value=word_to_index['<PAD>'],\n",
    "                                                       padding='pre',\n",
    "                                                       maxlen=41)\n"
   ]
  },
  {
   "cell_type": "markdown",
   "id": "satellite-doctrine",
   "metadata": {},
   "source": [
    "### validation set 설정"
   ]
  },
  {
   "cell_type": "code",
   "execution_count": 7,
   "id": "motivated-steps",
   "metadata": {
    "scrolled": true
   },
   "outputs": [
    {
     "name": "stdout",
     "output_type": "stream",
     "text": [
      "(108682,)\n"
     ]
    }
   ],
   "source": [
    "# validation set 37500건 분리\n",
    "x_val = x_train[:37500]   \n",
    "y_val = y_train[:37500]\n",
    "\n",
    "# validation set을 제외한 나머지 37500건\n",
    "partial_x_train = x_train[37500:]  \n",
    "partial_y_train = y_train[37500:]\n",
    "\n",
    "\n",
    "print(partial_y_train.shape)"
   ]
  },
  {
   "cell_type": "code",
   "execution_count": 10,
   "id": "leading-disabled",
   "metadata": {},
   "outputs": [
    {
     "name": "stdout",
     "output_type": "stream",
     "text": [
      "Model: \"sequential_1\"\n",
      "_________________________________________________________________\n",
      "Layer (type)                 Output Shape              Param #   \n",
      "=================================================================\n",
      "embedding_1 (Embedding)      (None, None, 16)          160000    \n",
      "_________________________________________________________________\n",
      "conv1d_2 (Conv1D)            (None, None, 16)          1808      \n",
      "_________________________________________________________________\n",
      "max_pooling1d_1 (MaxPooling1 (None, None, 16)          0         \n",
      "_________________________________________________________________\n",
      "conv1d_3 (Conv1D)            (None, None, 16)          1808      \n",
      "_________________________________________________________________\n",
      "global_max_pooling1d_1 (Glob (None, 16)                0         \n",
      "_________________________________________________________________\n",
      "dense_2 (Dense)              (None, 8)                 136       \n",
      "_________________________________________________________________\n",
      "dense_3 (Dense)              (None, 1)                 9         \n",
      "=================================================================\n",
      "Total params: 163,761\n",
      "Trainable params: 163,761\n",
      "Non-trainable params: 0\n",
      "_________________________________________________________________\n"
     ]
    }
   ],
   "source": [
    "vocab_size = 10000    # 어휘 사전의 크기입니다(10,000개의 단어)\n",
    "word_vector_dim = 16  # 워드 벡터의 차원수 (변경가능한 하이퍼파라미터)\n",
    "\n",
    "# model 설계 - 딥러닝 모델 코드를 직접 작성해 주세요.\n",
    "model = keras.Sequential()\n",
    "# [[YOUR CODE]]\n",
    "model.add(keras.layers.Embedding(vocab_size, word_vector_dim, input_shape=(None,)))\n",
    "model.add(keras.layers.Conv1D(16, 7, activation='relu'))\n",
    "model.add(keras.layers.MaxPooling1D(5))\n",
    "model.add(keras.layers.Conv1D(16, 7, activation='relu'))\n",
    "model.add(keras.layers.GlobalMaxPooling1D())\n",
    "model.add(keras.layers.Dense(8, activation='relu'))\n",
    "model.add(keras.layers.Dense(1, activation='sigmoid'))  # 최종 출력은 긍정/부정을 나타내는 1dim 입니다.\n",
    "\n",
    "\n",
    "model.summary()"
   ]
  },
  {
   "cell_type": "code",
   "execution_count": 11,
   "id": "alien-drawing",
   "metadata": {
    "scrolled": true
   },
   "outputs": [
    {
     "name": "stdout",
     "output_type": "stream",
     "text": [
      "Epoch 1/20\n",
      "213/213 [==============================] - 9s 40ms/step - loss: 0.5330 - accuracy: 0.7295 - val_loss: 0.3645 - val_accuracy: 0.8406\n",
      "Epoch 2/20\n",
      "213/213 [==============================] - 1s 5ms/step - loss: 0.3371 - accuracy: 0.8560 - val_loss: 0.3468 - val_accuracy: 0.8504\n",
      "Epoch 3/20\n",
      "213/213 [==============================] - 1s 4ms/step - loss: 0.3012 - accuracy: 0.8741 - val_loss: 0.3397 - val_accuracy: 0.8537\n",
      "Epoch 4/20\n",
      "213/213 [==============================] - 1s 5ms/step - loss: 0.2769 - accuracy: 0.8859 - val_loss: 0.3425 - val_accuracy: 0.8545\n",
      "Epoch 5/20\n",
      "213/213 [==============================] - 1s 5ms/step - loss: 0.2533 - accuracy: 0.8983 - val_loss: 0.3506 - val_accuracy: 0.8527\n",
      "Epoch 6/20\n",
      "213/213 [==============================] - 1s 5ms/step - loss: 0.2293 - accuracy: 0.9095 - val_loss: 0.3622 - val_accuracy: 0.8519\n",
      "Epoch 7/20\n",
      "213/213 [==============================] - 1s 5ms/step - loss: 0.2032 - accuracy: 0.9227 - val_loss: 0.3816 - val_accuracy: 0.8485\n",
      "Epoch 8/20\n",
      "213/213 [==============================] - 1s 5ms/step - loss: 0.1773 - accuracy: 0.9355 - val_loss: 0.4076 - val_accuracy: 0.8467\n",
      "Epoch 9/20\n",
      "213/213 [==============================] - 1s 5ms/step - loss: 0.1530 - accuracy: 0.9476 - val_loss: 0.4368 - val_accuracy: 0.8434\n",
      "Epoch 10/20\n",
      "213/213 [==============================] - 1s 5ms/step - loss: 0.1310 - accuracy: 0.9566 - val_loss: 0.4620 - val_accuracy: 0.8414\n",
      "Epoch 11/20\n",
      "213/213 [==============================] - 1s 5ms/step - loss: 0.1119 - accuracy: 0.9644 - val_loss: 0.4940 - val_accuracy: 0.8393\n",
      "Epoch 12/20\n",
      "213/213 [==============================] - 1s 5ms/step - loss: 0.0959 - accuracy: 0.9713 - val_loss: 0.5295 - val_accuracy: 0.8353\n",
      "Epoch 13/20\n",
      "213/213 [==============================] - 1s 5ms/step - loss: 0.0836 - accuracy: 0.9756 - val_loss: 0.5608 - val_accuracy: 0.8331\n",
      "Epoch 14/20\n",
      "213/213 [==============================] - 1s 5ms/step - loss: 0.0735 - accuracy: 0.9796 - val_loss: 0.5999 - val_accuracy: 0.8314\n",
      "Epoch 15/20\n",
      "213/213 [==============================] - 1s 5ms/step - loss: 0.0653 - accuracy: 0.9817 - val_loss: 0.6377 - val_accuracy: 0.8294\n",
      "Epoch 16/20\n",
      "213/213 [==============================] - 1s 4ms/step - loss: 0.0575 - accuracy: 0.9845 - val_loss: 0.6682 - val_accuracy: 0.8283\n",
      "Epoch 17/20\n",
      "213/213 [==============================] - 1s 5ms/step - loss: 0.0515 - accuracy: 0.9867 - val_loss: 0.7016 - val_accuracy: 0.8264\n",
      "Epoch 18/20\n",
      "213/213 [==============================] - 1s 5ms/step - loss: 0.0470 - accuracy: 0.9879 - val_loss: 0.7292 - val_accuracy: 0.8254\n",
      "Epoch 19/20\n",
      "213/213 [==============================] - 1s 5ms/step - loss: 0.0431 - accuracy: 0.9888 - val_loss: 0.7614 - val_accuracy: 0.8240\n",
      "Epoch 20/20\n",
      "213/213 [==============================] - 1s 5ms/step - loss: 0.0391 - accuracy: 0.9901 - val_loss: 0.7986 - val_accuracy: 0.8211\n"
     ]
    }
   ],
   "source": [
    "model.compile(optimizer='adam',\n",
    "              loss='binary_crossentropy',\n",
    "              metrics=['accuracy'])\n",
    "              \n",
    "epochs=20  # 몇 epoch를 훈련하면 좋을지 결과를 보면서 바꾸어 봅시다. \n",
    "\n",
    "history = model.fit(partial_x_train,\n",
    "                    partial_y_train,\n",
    "                    epochs=epochs,\n",
    "                    batch_size=512,\n",
    "                    validation_data=(x_val, y_val),\n",
    "                    verbose=1)"
   ]
  },
  {
   "cell_type": "code",
   "execution_count": 12,
   "id": "graphic-jersey",
   "metadata": {
    "scrolled": false
   },
   "outputs": [
    {
     "name": "stdout",
     "output_type": "stream",
     "text": [
      "dict_keys(['loss', 'accuracy', 'val_loss', 'val_accuracy'])\n"
     ]
    },
    {
     "data": {
      "image/png": "[encoded data removed]",
      "text/plain": [
       "<Figure size 432x288 with 1 Axes>"
      ]
     },
     "metadata": {
      "needs_background": "light"
     },
     "output_type": "display_data"
    },
    {
     "data": {
      "image/png": "[encoded data removed]",
      "text/plain": [
       "<Figure size 432x288 with 1 Axes>"
      ]
     },
     "metadata": {
      "needs_background": "light"
     },
     "output_type": "display_data"
    }
   ],
   "source": [
    "history_dict = history.history\n",
    "print(history_dict.keys()) # epoch에 따른 그래프를 그려볼 수 있는 항목들\n",
    "import matplotlib.pyplot as plt\n",
    "\n",
    "acc = history_dict['accuracy']\n",
    "val_acc = history_dict['val_accuracy']\n",
    "loss = history_dict['loss']\n",
    "val_loss = history_dict['val_loss']\n",
    "\n",
    "epochs = range(1, len(acc) + 1)\n",
    "\n",
    "# \"bo\"는 \"파란색 점\"입니다\n",
    "plt.plot(epochs, loss, 'bo', label='Training loss')\n",
    "# b는 \"파란 실선\"입니다\n",
    "plt.plot(epochs, val_loss, 'b', label='Validation loss')\n",
    "plt.title('Training and validation loss')\n",
    "plt.xlabel('Epochs')\n",
    "plt.ylabel('Loss')\n",
    "plt.legend()\n",
    "\n",
    "plt.show()\n",
    "\n",
    "plt.clf()   # 그림을 초기화합니다\n",
    "\n",
    "plt.plot(epochs, acc, 'bo', label='Training acc')\n",
    "plt.plot(epochs, val_acc, 'b', label='Validation acc')\n",
    "plt.title('Training and validation accuracy')\n",
    "plt.xlabel('Epochs')\n",
    "plt.ylabel('Accuracy')\n",
    "plt.legend()\n",
    "\n",
    "plt.show()"
   ]
  },
  {
   "cell_type": "code",
   "execution_count": 13,
   "id": "international-helping",
   "metadata": {},
   "outputs": [
    {
     "name": "stdout",
     "output_type": "stream",
     "text": [
      "1537/1537 - 4s - loss: 0.8320 - accuracy: 0.8157\n",
      "[0.8320320248603821, 0.8157332539558411]\n"
     ]
    }
   ],
   "source": [
    "results = model.evaluate(x_test,  y_test, verbose=2)\n",
    "\n",
    "print(results)"
   ]
  },
  {
   "cell_type": "markdown",
   "id": "narrow-penalty",
   "metadata": {},
   "source": [
    "### 학습한 임베딩 레이어 확인"
   ]
  },
  {
   "cell_type": "code",
   "execution_count": 14,
   "id": "reverse-expansion",
   "metadata": {
    "scrolled": true
   },
   "outputs": [],
   "source": [
    "import os\n",
    "\n",
    "# 학습한 Embedding 파라미터를 파일에 써서 저장합니다. \n",
    "word2vec_file_path = os.getenv('HOME')+'/aiffel/sentiment_classification/word2vec.txt'\n",
    "f = open(word2vec_file_path, 'w')\n",
    "f.write('{} {}\\n'.format(vocab_size-4, word_vector_dim))  # 몇개의 벡터를 얼마 사이즈로 기재할지 타이틀을 씁니다.\n",
    "\n",
    "# 단어 개수(에서 특수문자 4개는 제외하고)만큼의 워드 벡터를 파일에 기록합니다. \n",
    "vectors = model.get_weights()[0]\n",
    "for i in range(4,vocab_size):\n",
    "    f.write('{} {}\\n'.format(index_to_word[i], ' '.join(map(str, list(vectors[i, :])))))\n",
    "f.close()\n"
   ]
  },
  {
   "cell_type": "markdown",
   "id": "tracked-surge",
   "metadata": {},
   "source": [
    "강아지와 비슷한 벡터 표시"
   ]
  },
  {
   "cell_type": "code",
   "execution_count": 16,
   "id": "previous-hygiene",
   "metadata": {},
   "outputs": [
    {
     "data": {
      "text/plain": [
       "[('바쁘', 0.8645966053009033),\n",
       " ('OUT', 0.8598277568817139),\n",
       " ('스틸', 0.8546355962753296),\n",
       " ('개도', 0.8539977073669434),\n",
       " ('곽경택', 0.8519953489303589),\n",
       " ('소란', 0.8434408903121948),\n",
       " ('줄께', 0.8428117036819458),\n",
       " ('do', 0.8402538895606995),\n",
       " ('모독', 0.8392202854156494),\n",
       " ('본인', 0.8305684328079224)]"
      ]
     },
     "execution_count": 16,
     "metadata": {},
     "output_type": "execute_result"
    }
   ],
   "source": [
    "\n",
    "from gensim.models.keyedvectors import Word2VecKeyedVectors\n",
    "\n",
    "word_vectors = Word2VecKeyedVectors.load_word2vec_format(word2vec_file_path, binary=False)\n",
    "\n",
    "word_vectors.similar_by_word(\"강아지\")\n"
   ]
  },
  {
   "cell_type": "markdown",
   "id": "organized-complement",
   "metadata": {},
   "source": [
    "### 한국어 Word2Vec 임베딩 활용하기 \n",
    "word_vector_dim은 200으로 되있는것을 다운 받은거라 200 고정  \n",
    "[다운링크](https://drive.google.com/file/d/0B0ZXk88koS2KbDhXdWg1Q2RydlU/view)"
   ]
  },
  {
   "cell_type": "code",
   "execution_count": 17,
   "id": "flush-concrete",
   "metadata": {},
   "outputs": [
    {
     "name": "stdout",
     "output_type": "stream",
     "text": [
      "[('고양이', 0.7290453314781189), ('거위', 0.7185634970664978), ('토끼', 0.7056223750114441), ('멧돼지', 0.6950401067733765), ('엄마', 0.693433403968811), ('난쟁이', 0.6806551218032837), ('한마리', 0.6770296096801758), ('아가씨', 0.675035297870636), ('아빠', 0.6729634404182434), ('목걸이', 0.6512461304664612)]\n"
     ]
    },
    {
     "name": "stderr",
     "output_type": "stream",
     "text": [
      "/home/aiffel-dj26/anaconda3/envs/aiffel/lib/python3.7/site-packages/ipykernel_launcher.py:13: DeprecationWarning: Call to deprecated `__contains__` (Method will be removed in 4.0.0, use self.wv.__contains__() instead).\n",
      "  del sys.path[0]\n",
      "/home/aiffel-dj26/anaconda3/envs/aiffel/lib/python3.7/site-packages/ipykernel_launcher.py:14: DeprecationWarning: Call to deprecated `__getitem__` (Method will be removed in 4.0.0, use self.wv.__getitem__() instead).\n",
      "  \n"
     ]
    }
   ],
   "source": [
    "import os\n",
    "import gensim\n",
    "word2vec_file_path = os.getenv('HOME')+'/aiffel/sentiment_classification/ko/ko.bin'\n",
    "\n",
    "ko_model = gensim.models.Word2Vec.load(word2vec_file_path)\n",
    "a = ko_model.wv.most_similar(\"강아지\")\n",
    "print(a)\n",
    "vocab_size = 10000\n",
    "word_vector_dim = 200\n",
    "\n",
    "embedding_matrix = np.random.rand(vocab_size,word_vector_dim )\n",
    "for i in range(4,vocab_size):\n",
    "    if index_to_word[i] in ko_model:\n",
    "        embedding_matrix[i] = ko_model[index_to_word[i]]"
   ]
  },
  {
   "cell_type": "markdown",
   "id": "occupied-bridal",
   "metadata": {},
   "source": [
    "내가 학습한 임베딩에서는 강아지와 비슷한 벡터는 강아지와 크게 연관이 없어보이는 방면 \n",
    "이미 학습된 임베딩에서 강아지와 비슷한 것을 봤을 때 고양이 거위 이런것이 나오는 것을 보면 임베딩이 잘되어있는것을 알 수 있었다"
   ]
  },
  {
   "cell_type": "markdown",
   "id": "auburn-progress",
   "metadata": {},
   "source": [
    "- **학습된 임베딩 용 모델 구성**"
   ]
  },
  {
   "cell_type": "code",
   "execution_count": 18,
   "id": "rubber-league",
   "metadata": {},
   "outputs": [
    {
     "name": "stdout",
     "output_type": "stream",
     "text": [
      "Model: \"sequential_2\"\n",
      "_________________________________________________________________\n",
      "Layer (type)                 Output Shape              Param #   \n",
      "=================================================================\n",
      "embedding_2 (Embedding)      (None, 41, 200)           2000000   \n",
      "_________________________________________________________________\n",
      "conv1d_4 (Conv1D)            (None, 35, 16)            22416     \n",
      "_________________________________________________________________\n",
      "max_pooling1d_2 (MaxPooling1 (None, 7, 16)             0         \n",
      "_________________________________________________________________\n",
      "conv1d_5 (Conv1D)            (None, 1, 16)             1808      \n",
      "_________________________________________________________________\n",
      "global_max_pooling1d_2 (Glob (None, 16)                0         \n",
      "_________________________________________________________________\n",
      "dense_4 (Dense)              (None, 8)                 136       \n",
      "_________________________________________________________________\n",
      "dense_5 (Dense)              (None, 1)                 9         \n",
      "=================================================================\n",
      "Total params: 2,024,369\n",
      "Trainable params: 2,024,369\n",
      "Non-trainable params: 0\n",
      "_________________________________________________________________\n"
     ]
    }
   ],
   "source": [
    "from tensorflow.keras.initializers import Constant\n",
    "\n",
    "vocab_size = 10000    # 어휘 사전의 크기입니다(10,000개의 단어)\n",
    "word_vector_dim = 200  # 워드 벡터의 차원수 (변경가능한 하이퍼파라미터)\n",
    "\n",
    "# 모델 구성\n",
    "model = keras.Sequential()\n",
    "model.add(keras.layers.Embedding(vocab_size, \n",
    "                                 word_vector_dim, \n",
    "                                 embeddings_initializer=Constant(embedding_matrix),  # 카피한 임베딩을 여기서 활용\n",
    "                                 input_length=maxlen, \n",
    "                                 trainable=True))   # trainable을 True로 주면 Fine-tuning\n",
    "model.add(keras.layers.Conv1D(16, 7, activation='relu'))\n",
    "model.add(keras.layers.MaxPooling1D(5))\n",
    "model.add(keras.layers.Conv1D(16, 7, activation='relu'))\n",
    "model.add(keras.layers.GlobalMaxPooling1D())\n",
    "model.add(keras.layers.Dense(8, activation='relu'))\n",
    "model.add(keras.layers.Dense(1, activation='sigmoid')) \n",
    "\n",
    "model.summary()"
   ]
  },
  {
   "cell_type": "code",
   "execution_count": 19,
   "id": "impressed-maximum",
   "metadata": {
    "scrolled": true
   },
   "outputs": [
    {
     "name": "stdout",
     "output_type": "stream",
     "text": [
      "Epoch 1/20\n",
      "213/213 [==============================] - 10s 46ms/step - loss: 0.5592 - accuracy: 0.6998 - val_loss: 0.4439 - val_accuracy: 0.7945\n",
      "Epoch 2/20\n",
      "213/213 [==============================] - 5s 25ms/step - loss: 0.3976 - accuracy: 0.8212 - val_loss: 0.3815 - val_accuracy: 0.8300\n",
      "Epoch 3/20\n",
      "213/213 [==============================] - 5s 25ms/step - loss: 0.3338 - accuracy: 0.8568 - val_loss: 0.3634 - val_accuracy: 0.8398\n",
      "Epoch 4/20\n",
      "213/213 [==============================] - 5s 25ms/step - loss: 0.2970 - accuracy: 0.8760 - val_loss: 0.3701 - val_accuracy: 0.8354\n",
      "Epoch 5/20\n",
      "213/213 [==============================] - 6s 26ms/step - loss: 0.2658 - accuracy: 0.8929 - val_loss: 0.3636 - val_accuracy: 0.8433\n",
      "Epoch 6/20\n",
      "213/213 [==============================] - 5s 26ms/step - loss: 0.2439 - accuracy: 0.9034 - val_loss: 0.3764 - val_accuracy: 0.8452\n",
      "Epoch 7/20\n",
      "213/213 [==============================] - 5s 25ms/step - loss: 0.2181 - accuracy: 0.9165 - val_loss: 0.3918 - val_accuracy: 0.8394\n",
      "Epoch 8/20\n",
      "213/213 [==============================] - 5s 25ms/step - loss: 0.1968 - accuracy: 0.9264 - val_loss: 0.4055 - val_accuracy: 0.8409\n",
      "Epoch 9/20\n",
      "213/213 [==============================] - 5s 25ms/step - loss: 0.1766 - accuracy: 0.9360 - val_loss: 0.4251 - val_accuracy: 0.8398\n",
      "Epoch 10/20\n",
      "213/213 [==============================] - 5s 25ms/step - loss: 0.1544 - accuracy: 0.9462 - val_loss: 0.4410 - val_accuracy: 0.8379\n",
      "Epoch 11/20\n",
      "213/213 [==============================] - 5s 25ms/step - loss: 0.1364 - accuracy: 0.9538 - val_loss: 0.4775 - val_accuracy: 0.8363\n",
      "Epoch 12/20\n",
      "213/213 [==============================] - 5s 25ms/step - loss: 0.1204 - accuracy: 0.9595 - val_loss: 0.5032 - val_accuracy: 0.8342\n",
      "Epoch 13/20\n",
      "213/213 [==============================] - 5s 25ms/step - loss: 0.1051 - accuracy: 0.9668 - val_loss: 0.5422 - val_accuracy: 0.8345\n",
      "Epoch 14/20\n",
      "213/213 [==============================] - 5s 25ms/step - loss: 0.0920 - accuracy: 0.9714 - val_loss: 0.5950 - val_accuracy: 0.8306\n",
      "Epoch 15/20\n",
      "213/213 [==============================] - 5s 25ms/step - loss: 0.0818 - accuracy: 0.9753 - val_loss: 0.6081 - val_accuracy: 0.8311\n",
      "Epoch 16/20\n",
      "213/213 [==============================] - 5s 24ms/step - loss: 0.0725 - accuracy: 0.9790 - val_loss: 0.6424 - val_accuracy: 0.8298\n",
      "Epoch 17/20\n",
      "213/213 [==============================] - 5s 24ms/step - loss: 0.0704 - accuracy: 0.9790 - val_loss: 0.6665 - val_accuracy: 0.8314\n",
      "Epoch 18/20\n",
      "213/213 [==============================] - 5s 24ms/step - loss: 0.0636 - accuracy: 0.9814 - val_loss: 0.6892 - val_accuracy: 0.8267\n",
      "Epoch 19/20\n",
      "213/213 [==============================] - 5s 25ms/step - loss: 0.0590 - accuracy: 0.9829 - val_loss: 0.7253 - val_accuracy: 0.8300\n",
      "Epoch 20/20\n",
      "213/213 [==============================] - 5s 24ms/step - loss: 0.0565 - accuracy: 0.9832 - val_loss: 0.7445 - val_accuracy: 0.8294\n"
     ]
    }
   ],
   "source": [
    "# 학습의 진행\n",
    "model.compile(optimizer='adam',\n",
    "              loss='binary_crossentropy',\n",
    "              metrics=['accuracy'])\n",
    "              \n",
    "epochs=20  # 몇 epoch를 훈련하면 좋을지 결과를 보면서 바꾸어 봅시다. \n",
    "\n",
    "history = model.fit(partial_x_train,\n",
    "                    partial_y_train,\n",
    "                    epochs=epochs,\n",
    "                    batch_size=512,\n",
    "                    validation_data=(x_val, y_val),\n",
    "                    verbose=1)"
   ]
  },
  {
   "cell_type": "code",
   "execution_count": 20,
   "id": "golden-cornwall",
   "metadata": {},
   "outputs": [
    {
     "name": "stdout",
     "output_type": "stream",
     "text": [
      "dict_keys(['loss', 'accuracy', 'val_loss', 'val_accuracy'])\n"
     ]
    },
    {
     "data": {
      "image/png": "[encoded data removed]",
      "text/plain": [
       "<Figure size 432x288 with 1 Axes>"
      ]
     },
     "metadata": {
      "needs_background": "light"
     },
     "output_type": "display_data"
    },
    {
     "data": {
      "image/png": "[encoded data removed]",
      "text/plain": [
       "<Figure size 432x288 with 1 Axes>"
      ]
     },
     "metadata": {
      "needs_background": "light"
     },
     "output_type": "display_data"
    }
   ],
   "source": [
    "history_dict = history.history\n",
    "print(history_dict.keys()) # epoch에 따른 그래프를 그려볼 수 있는 항목들\n",
    "import matplotlib.pyplot as plt\n",
    "\n",
    "acc = history_dict['accuracy']\n",
    "val_acc = history_dict['val_accuracy']\n",
    "loss = history_dict['loss']\n",
    "val_loss = history_dict['val_loss']\n",
    "\n",
    "epochs = range(1, len(acc) + 1)\n",
    "\n",
    "# \"bo\"는 \"파란색 점\"입니다\n",
    "plt.plot(epochs, loss, 'bo', label='Training loss')\n",
    "# b는 \"파란 실선\"입니다\n",
    "plt.plot(epochs, val_loss, 'b', label='Validation loss')\n",
    "plt.title('Training and validation loss')\n",
    "plt.xlabel('Epochs')\n",
    "plt.ylabel('Loss')\n",
    "plt.legend()\n",
    "\n",
    "plt.show()\n",
    "\n",
    "plt.clf()   # 그림을 초기화합니다\n",
    "\n",
    "plt.plot(epochs, acc, 'bo', label='Training acc')\n",
    "plt.plot(epochs, val_acc, 'b', label='Validation acc')\n",
    "plt.title('Training and validation accuracy')\n",
    "plt.xlabel('Epochs')\n",
    "plt.ylabel('Accuracy')\n",
    "plt.legend()\n",
    "\n",
    "plt.show()"
   ]
  },
  {
   "cell_type": "markdown",
   "id": "portable-bibliography",
   "metadata": {},
   "source": [
    "### 학습된 임베딩 레이어 에폭 조정\n",
    "이미 학습된 임베딩이라 그런지 과적합이 금방 일어난다. 과적합 판단 여부는 validation loss가 줄어들다가 상승할때를 잡았다. \n",
    "3번째를 지나서 과적합이 일어났으므로 에폭을 3번으로 바꾸고 다시하였다."
   ]
  },
  {
   "cell_type": "code",
   "execution_count": 21,
   "id": "toxic-russell",
   "metadata": {},
   "outputs": [
    {
     "name": "stdout",
     "output_type": "stream",
     "text": [
      "Model: \"sequential_3\"\n",
      "_________________________________________________________________\n",
      "Layer (type)                 Output Shape              Param #   \n",
      "=================================================================\n",
      "embedding_3 (Embedding)      (None, 41, 200)           2000000   \n",
      "_________________________________________________________________\n",
      "conv1d_6 (Conv1D)            (None, 35, 16)            22416     \n",
      "_________________________________________________________________\n",
      "max_pooling1d_3 (MaxPooling1 (None, 7, 16)             0         \n",
      "_________________________________________________________________\n",
      "conv1d_7 (Conv1D)            (None, 1, 16)             1808      \n",
      "_________________________________________________________________\n",
      "global_max_pooling1d_3 (Glob (None, 16)                0         \n",
      "_________________________________________________________________\n",
      "dense_6 (Dense)              (None, 8)                 136       \n",
      "_________________________________________________________________\n",
      "dense_7 (Dense)              (None, 1)                 9         \n",
      "=================================================================\n",
      "Total params: 2,024,369\n",
      "Trainable params: 2,024,369\n",
      "Non-trainable params: 0\n",
      "_________________________________________________________________\n"
     ]
    }
   ],
   "source": [
    "from tensorflow.keras.initializers import Constant\n",
    "\n",
    "vocab_size = 10000    # 어휘 사전의 크기입니다(10,000개의 단어)\n",
    "word_vector_dim = 200  # 워드 벡터의 차원수 (변경가능한 하이퍼파라미터)\n",
    "\n",
    "# 모델 구성\n",
    "model = keras.Sequential()\n",
    "model.add(keras.layers.Embedding(vocab_size, \n",
    "                                 word_vector_dim, \n",
    "                                 embeddings_initializer=Constant(embedding_matrix),  # 카피한 임베딩을 여기서 활용\n",
    "                                 input_length=maxlen, \n",
    "                                 trainable=True))   # trainable을 True로 주면 Fine-tuning\n",
    "model.add(keras.layers.Conv1D(16, 7, activation='relu'))\n",
    "model.add(keras.layers.MaxPooling1D(5))\n",
    "model.add(keras.layers.Conv1D(16, 7, activation='relu'))\n",
    "model.add(keras.layers.GlobalMaxPooling1D())\n",
    "model.add(keras.layers.Dense(8, activation='relu'))\n",
    "model.add(keras.layers.Dense(1, activation='sigmoid')) \n",
    "\n",
    "model.summary()"
   ]
  },
  {
   "cell_type": "code",
   "execution_count": 22,
   "id": "terminal-attendance",
   "metadata": {},
   "outputs": [
    {
     "name": "stdout",
     "output_type": "stream",
     "text": [
      "Epoch 1/3\n",
      "213/213 [==============================] - 5s 25ms/step - loss: 0.5428 - accuracy: 0.7165 - val_loss: 0.4404 - val_accuracy: 0.7941\n",
      "Epoch 2/3\n",
      "213/213 [==============================] - 5s 24ms/step - loss: 0.3953 - accuracy: 0.8210 - val_loss: 0.3811 - val_accuracy: 0.8300\n",
      "Epoch 3/3\n",
      "213/213 [==============================] - 5s 24ms/step - loss: 0.3341 - accuracy: 0.8554 - val_loss: 0.3634 - val_accuracy: 0.8417\n"
     ]
    }
   ],
   "source": [
    "# 학습의 진행\n",
    "model.compile(optimizer='adam',\n",
    "              loss='binary_crossentropy',\n",
    "              metrics=['accuracy'])\n",
    "              \n",
    "epochs=3  # 몇 epoch를 훈련하면 좋을지 결과를 보면서 바꾸어 봅시다. \n",
    "\n",
    "history = model.fit(partial_x_train,\n",
    "                    partial_y_train,\n",
    "                    epochs=epochs,\n",
    "                    batch_size=512,\n",
    "                    validation_data=(x_val, y_val),\n",
    "                    verbose=1)"
   ]
  },
  {
   "cell_type": "markdown",
   "id": "linear-stupid",
   "metadata": {},
   "source": [
    "이제 학습된 임베딩을 활용하여 한것을 테스트 하였다"
   ]
  },
  {
   "cell_type": "code",
   "execution_count": 23,
   "id": "measured-observation",
   "metadata": {},
   "outputs": [
    {
     "name": "stdout",
     "output_type": "stream",
     "text": [
      "1537/1537 - 3s - loss: 0.3767 - accuracy: 0.8352\n",
      "[0.3766663074493408, 0.8351811766624451]\n"
     ]
    }
   ],
   "source": [
    "# 테스트셋을 통한 모델 평가\n",
    "results = model.evaluate(x_test,  y_test, verbose=2)\n",
    "\n",
    "print(results)"
   ]
  },
  {
   "cell_type": "markdown",
   "id": "strategic-angola",
   "metadata": {},
   "source": [
    "83프로로 학습된 임베딩 없이 한 모델의 정확도 81프로의 수치보다 약간 높아졌다.하지만 너무 적은 수치라 모델을 다른것을 사용하거나 하이퍼파라미터를 변경해야한다고 생각한다. 하지만 둘다 해보기엔 무리가 있어보여 모델을 다른것을 해보기로 하였다."
   ]
  },
  {
   "cell_type": "markdown",
   "id": "utility-rover",
   "metadata": {},
   "source": [
    "## LSTM MODEL"
   ]
  },
  {
   "cell_type": "code",
   "execution_count": 24,
   "id": "convinced-brass",
   "metadata": {},
   "outputs": [
    {
     "name": "stdout",
     "output_type": "stream",
     "text": [
      "Model: \"sequential_4\"\n",
      "_________________________________________________________________\n",
      "Layer (type)                 Output Shape              Param #   \n",
      "=================================================================\n",
      "embedding_4 (Embedding)      (None, 41, 200)           2000000   \n",
      "_________________________________________________________________\n",
      "lstm (LSTM)                  (None, 256)               467968    \n",
      "_________________________________________________________________\n",
      "dense_8 (Dense)              (None, 8)                 2056      \n",
      "_________________________________________________________________\n",
      "dense_9 (Dense)              (None, 1)                 9         \n",
      "=================================================================\n",
      "Total params: 2,470,033\n",
      "Trainable params: 2,470,033\n",
      "Non-trainable params: 0\n",
      "_________________________________________________________________\n"
     ]
    }
   ],
   "source": [
    "from tensorflow.keras.initializers import Constant\n",
    "\n",
    "vocab_size = 10000    # 어휘 사전의 크기입니다(10,000개의 단어)\n",
    "word_vector_dim = 200  # 워드 벡터의 차원수 (변경가능한 하이퍼파라미터)\n",
    "\n",
    "# 모델 구성\n",
    "model = keras.Sequential()\n",
    "model.add(keras.layers.Embedding(vocab_size, \n",
    "                                 word_vector_dim, \n",
    "                                 embeddings_initializer=Constant(embedding_matrix),  # 카피한 임베딩을 여기서 활용\n",
    "                                 input_length=maxlen, \n",
    "                                 trainable=True))   # trainable을 True로 주면 Fine-tuning\n",
    "model.add(keras.layers.LSTM(256))   # 가장 널리 쓰이는 RNN인 LSTM 레이어를 사용하였습니다. 이때 LSTM state 벡터의 차원수는 8로 하였습니다. (변경가능)\n",
    "model.add(keras.layers.Dense(8, activation='relu'))\n",
    "model.add(keras.layers.Dense(1, activation='sigmoid'))  # 최종 출력은 긍정/부정을 나타내는 1dim 입니다.\n",
    "\n",
    "model.summary()"
   ]
  },
  {
   "cell_type": "code",
   "execution_count": 25,
   "id": "medieval-manitoba",
   "metadata": {
    "scrolled": true
   },
   "outputs": [
    {
     "name": "stdout",
     "output_type": "stream",
     "text": [
      "Epoch 1/20\n",
      "213/213 [==============================] - 8s 39ms/step - loss: 0.4508 - accuracy: 0.7847 - val_loss: 0.3610 - val_accuracy: 0.8387\n",
      "Epoch 2/20\n",
      "213/213 [==============================] - 8s 37ms/step - loss: 0.3284 - accuracy: 0.8574 - val_loss: 0.3226 - val_accuracy: 0.8589\n",
      "Epoch 3/20\n",
      "213/213 [==============================] - 8s 37ms/step - loss: 0.2804 - accuracy: 0.8825 - val_loss: 0.3276 - val_accuracy: 0.8609\n",
      "Epoch 4/20\n",
      "213/213 [==============================] - 8s 37ms/step - loss: 0.2477 - accuracy: 0.8984 - val_loss: 0.3162 - val_accuracy: 0.8692\n",
      "Epoch 5/20\n",
      "213/213 [==============================] - 8s 37ms/step - loss: 0.2161 - accuracy: 0.9126 - val_loss: 0.3360 - val_accuracy: 0.8662\n",
      "Epoch 6/20\n",
      "213/213 [==============================] - 8s 37ms/step - loss: 0.1840 - accuracy: 0.9270 - val_loss: 0.3449 - val_accuracy: 0.8629\n",
      "Epoch 7/20\n",
      "213/213 [==============================] - 8s 37ms/step - loss: 0.1515 - accuracy: 0.9417 - val_loss: 0.4034 - val_accuracy: 0.8616\n",
      "Epoch 8/20\n",
      "213/213 [==============================] - 8s 37ms/step - loss: 0.1210 - accuracy: 0.9540 - val_loss: 0.4409 - val_accuracy: 0.8592\n",
      "Epoch 9/20\n",
      "213/213 [==============================] - 8s 37ms/step - loss: 0.0949 - accuracy: 0.9647 - val_loss: 0.4928 - val_accuracy: 0.8547\n",
      "Epoch 10/20\n",
      "213/213 [==============================] - 8s 37ms/step - loss: 0.0754 - accuracy: 0.9719 - val_loss: 0.5473 - val_accuracy: 0.8539\n",
      "Epoch 11/20\n",
      "213/213 [==============================] - 8s 37ms/step - loss: 0.0588 - accuracy: 0.9787 - val_loss: 0.5531 - val_accuracy: 0.8529\n",
      "Epoch 12/20\n",
      "213/213 [==============================] - 8s 37ms/step - loss: 0.0492 - accuracy: 0.9818 - val_loss: 0.6468 - val_accuracy: 0.8562\n",
      "Epoch 13/20\n",
      "213/213 [==============================] - 8s 37ms/step - loss: 0.0431 - accuracy: 0.9845 - val_loss: 0.7172 - val_accuracy: 0.8565\n",
      "Epoch 14/20\n",
      "213/213 [==============================] - 8s 37ms/step - loss: 0.0329 - accuracy: 0.9876 - val_loss: 0.7674 - val_accuracy: 0.8493\n",
      "Epoch 15/20\n",
      "213/213 [==============================] - 8s 37ms/step - loss: 0.0293 - accuracy: 0.9890 - val_loss: 0.7892 - val_accuracy: 0.8503\n",
      "Epoch 16/20\n",
      "213/213 [==============================] - 8s 37ms/step - loss: 0.0293 - accuracy: 0.9892 - val_loss: 0.8803 - val_accuracy: 0.8528\n",
      "Epoch 17/20\n",
      "213/213 [==============================] - 8s 37ms/step - loss: 0.0244 - accuracy: 0.9904 - val_loss: 0.8683 - val_accuracy: 0.8505\n",
      "Epoch 18/20\n",
      "213/213 [==============================] - 8s 38ms/step - loss: 0.0230 - accuracy: 0.9913 - val_loss: 0.8594 - val_accuracy: 0.8530\n",
      "Epoch 19/20\n",
      "213/213 [==============================] - 8s 38ms/step - loss: 0.0226 - accuracy: 0.9912 - val_loss: 0.9164 - val_accuracy: 0.8514\n",
      "Epoch 20/20\n",
      "213/213 [==============================] - 8s 37ms/step - loss: 0.0188 - accuracy: 0.9926 - val_loss: 0.9566 - val_accuracy: 0.8498\n"
     ]
    }
   ],
   "source": [
    "# 학습의 진행\n",
    "model.compile(optimizer='adam',\n",
    "              loss='binary_crossentropy',\n",
    "              metrics=['accuracy'])\n",
    "              \n",
    "epochs=20  # 몇 epoch를 훈련하면 좋을지 결과를 보면서 바꾸어 봅시다. \n",
    "\n",
    "history = model.fit(partial_x_train,\n",
    "                    partial_y_train,\n",
    "                    epochs=epochs,\n",
    "                    batch_size=512,\n",
    "                    validation_data=(x_val, y_val),\n",
    "                    verbose=1)"
   ]
  },
  {
   "cell_type": "code",
   "execution_count": 26,
   "id": "clear-story",
   "metadata": {},
   "outputs": [
    {
     "name": "stdout",
     "output_type": "stream",
     "text": [
      "dict_keys(['loss', 'accuracy', 'val_loss', 'val_accuracy'])\n"
     ]
    },
    {
     "data": {
      "image/png": "[encoded data removed]",
      "text/plain": [
       "<Figure size 432x288 with 1 Axes>"
      ]
     },
     "metadata": {
      "needs_background": "light"
     },
     "output_type": "display_data"
    },
    {
     "data": {
      "image/png": "[encoded data removed]",
      "text/plain": [
       "<Figure size 432x288 with 1 Axes>"
      ]
     },
     "metadata": {
      "needs_background": "light"
     },
     "output_type": "display_data"
    }
   ],
   "source": [
    "history_dict = history.history\n",
    "print(history_dict.keys()) # epoch에 따른 그래프를 그려볼 수 있는 항목들\n",
    "import matplotlib.pyplot as plt\n",
    "\n",
    "acc = history_dict['accuracy']\n",
    "val_acc = history_dict['val_accuracy']\n",
    "loss = history_dict['loss']\n",
    "val_loss = history_dict['val_loss']\n",
    "\n",
    "epochs = range(1, len(acc) + 1)\n",
    "\n",
    "# \"bo\"는 \"파란색 점\"입니다\n",
    "plt.plot(epochs, loss, 'bo', label='Training loss')\n",
    "# b는 \"파란 실선\"입니다\n",
    "plt.plot(epochs, val_loss, 'b', label='Validation loss')\n",
    "plt.title('Training and validation loss')\n",
    "plt.xlabel('Epochs')\n",
    "plt.ylabel('Loss')\n",
    "plt.legend()\n",
    "\n",
    "plt.show()\n",
    "\n",
    "plt.clf()   # 그림을 초기화합니다\n",
    "\n",
    "plt.plot(epochs, acc, 'bo', label='Training acc')\n",
    "plt.plot(epochs, val_acc, 'b', label='Validation acc')\n",
    "plt.title('Training and validation accuracy')\n",
    "plt.xlabel('Epochs')\n",
    "plt.ylabel('Accuracy')\n",
    "plt.legend()\n",
    "\n",
    "plt.show()"
   ]
  },
  {
   "cell_type": "markdown",
   "id": "qualified-gabriel",
   "metadata": {},
   "source": [
    "위의 그래프 상에 벨리데이션 로스 값이 올라가는 시점이 5에폭이라 4에폭으로 조정하였다."
   ]
  },
  {
   "cell_type": "code",
   "execution_count": 27,
   "id": "continued-ratio",
   "metadata": {},
   "outputs": [
    {
     "name": "stdout",
     "output_type": "stream",
     "text": [
      "Model: \"sequential_5\"\n",
      "_________________________________________________________________\n",
      "Layer (type)                 Output Shape              Param #   \n",
      "=================================================================\n",
      "embedding_5 (Embedding)      (None, 41, 200)           2000000   \n",
      "_________________________________________________________________\n",
      "lstm_1 (LSTM)                (None, 256)               467968    \n",
      "_________________________________________________________________\n",
      "dense_10 (Dense)             (None, 8)                 2056      \n",
      "_________________________________________________________________\n",
      "dense_11 (Dense)             (None, 1)                 9         \n",
      "=================================================================\n",
      "Total params: 2,470,033\n",
      "Trainable params: 2,470,033\n",
      "Non-trainable params: 0\n",
      "_________________________________________________________________\n"
     ]
    }
   ],
   "source": [
    "from tensorflow.keras.initializers import Constant\n",
    "\n",
    "vocab_size = 10000    # 어휘 사전의 크기입니다(10,000개의 단어)\n",
    "word_vector_dim = 200  # 워드 벡터의 차원수 (변경가능한 하이퍼파라미터)\n",
    "\n",
    "# 모델 구성\n",
    "model = keras.Sequential()\n",
    "model.add(keras.layers.Embedding(vocab_size, \n",
    "                                 word_vector_dim, \n",
    "                                 embeddings_initializer=Constant(embedding_matrix),  # 카피한 임베딩을 여기서 활용\n",
    "                                 input_length=maxlen, \n",
    "                                 trainable=True))   # trainable을 True로 주면 Fine-tuning\n",
    "model.add(keras.layers.LSTM(256))   # 가장 널리 쓰이는 RNN인 LSTM 레이어를 사용하였습니다. 이때 LSTM state 벡터의 차원수는 8로 하였습니다. (변경가능)\n",
    "model.add(keras.layers.Dense(8, activation='relu'))\n",
    "model.add(keras.layers.Dense(1, activation='sigmoid'))  # 최종 출력은 긍정/부정을 나타내는 1dim 입니다.\n",
    "\n",
    "model.summary()"
   ]
  },
  {
   "cell_type": "code",
   "execution_count": 28,
   "id": "unlimited-trustee",
   "metadata": {},
   "outputs": [
    {
     "name": "stdout",
     "output_type": "stream",
     "text": [
      "Epoch 1/4\n",
      "213/213 [==============================] - 8s 38ms/step - loss: 0.4565 - accuracy: 0.7803 - val_loss: 0.3660 - val_accuracy: 0.8385\n",
      "Epoch 2/4\n",
      "213/213 [==============================] - 8s 37ms/step - loss: 0.3260 - accuracy: 0.8588 - val_loss: 0.3231 - val_accuracy: 0.8600\n",
      "Epoch 3/4\n",
      "213/213 [==============================] - 8s 37ms/step - loss: 0.2785 - accuracy: 0.8832 - val_loss: 0.3149 - val_accuracy: 0.8650\n",
      "Epoch 4/4\n",
      "213/213 [==============================] - 8s 38ms/step - loss: 0.2464 - accuracy: 0.8989 - val_loss: 0.3273 - val_accuracy: 0.8639\n"
     ]
    }
   ],
   "source": [
    "# 학습의 진행\n",
    "model.compile(optimizer='adam',\n",
    "              loss='binary_crossentropy',\n",
    "              metrics=['accuracy'])\n",
    "              \n",
    "epochs=4  # 몇 epoch를 훈련하면 좋을지 결과를 보면서 바꾸어 봅시다. \n",
    "\n",
    "history = model.fit(partial_x_train,\n",
    "                    partial_y_train,\n",
    "                    epochs=epochs,\n",
    "                    batch_size=512,\n",
    "                    validation_data=(x_val, y_val),\n",
    "                    verbose=1)"
   ]
  },
  {
   "cell_type": "code",
   "execution_count": 29,
   "id": "closed-luxury",
   "metadata": {},
   "outputs": [
    {
     "name": "stdout",
     "output_type": "stream",
     "text": [
      "1537/1537 - 3s - loss: 0.3355 - accuracy: 0.8600\n",
      "[0.33552634716033936, 0.8600199222564697]\n"
     ]
    }
   ],
   "source": [
    "# 테스트셋을 통한 모델 평가\n",
    "results = model.evaluate(x_test,  y_test, verbose=2)\n",
    "\n",
    "print(results)"
   ]
  },
  {
   "cell_type": "markdown",
   "id": "geographic-flashing",
   "metadata": {},
   "source": [
    "- **LSTM MODEL 정확도 86%**"
   ]
  },
  {
   "cell_type": "markdown",
   "id": "vocal-today",
   "metadata": {},
   "source": [
    "## GlobalMaxPooling1D MODEL"
   ]
  },
  {
   "cell_type": "code",
   "execution_count": 30,
   "id": "unavailable-feedback",
   "metadata": {},
   "outputs": [
    {
     "name": "stdout",
     "output_type": "stream",
     "text": [
      "Model: \"sequential_6\"\n",
      "_________________________________________________________________\n",
      "Layer (type)                 Output Shape              Param #   \n",
      "=================================================================\n",
      "embedding_6 (Embedding)      (None, 41, 200)           2000000   \n",
      "_________________________________________________________________\n",
      "global_max_pooling1d_4 (Glob (None, 200)               0         \n",
      "_________________________________________________________________\n",
      "dense_12 (Dense)             (None, 8)                 1608      \n",
      "_________________________________________________________________\n",
      "dense_13 (Dense)             (None, 1)                 9         \n",
      "=================================================================\n",
      "Total params: 2,001,617\n",
      "Trainable params: 2,001,617\n",
      "Non-trainable params: 0\n",
      "_________________________________________________________________\n"
     ]
    }
   ],
   "source": [
    "from tensorflow.keras.initializers import Constant\n",
    "\n",
    "vocab_size = 10000    # 어휘 사전의 크기입니다(10,000개의 단어)\n",
    "word_vector_dim = 200  # 워드 벡터의 차원수 (변경가능한 하이퍼파라미터)\n",
    "\n",
    "# 모델 구성\n",
    "model = keras.Sequential()\n",
    "model.add(keras.layers.Embedding(vocab_size, \n",
    "                                 word_vector_dim, \n",
    "                                 embeddings_initializer=Constant(embedding_matrix),  # 카피한 임베딩을 여기서 활용\n",
    "                                 input_length=maxlen, \n",
    "                                 trainable=True))   # trainable을 True로 주면 Fine-tuning\n",
    "model.add(keras.layers.GlobalMaxPooling1D())\n",
    "model.add(keras.layers.Dense(8, activation='relu'))\n",
    "model.add(keras.layers.Dense(1, activation='sigmoid'))  # 최종 출력은 긍정/부정을 나타내는 1dim 입니다.\n",
    "model.summary()"
   ]
  },
  {
   "cell_type": "code",
   "execution_count": 31,
   "id": "interested-interview",
   "metadata": {
    "scrolled": true
   },
   "outputs": [
    {
     "name": "stdout",
     "output_type": "stream",
     "text": [
      "Epoch 1/20\n",
      "213/213 [==============================] - 5s 23ms/step - loss: 0.6878 - accuracy: 0.5514 - val_loss: 0.6472 - val_accuracy: 0.6253\n",
      "Epoch 2/20\n",
      "213/213 [==============================] - 5s 23ms/step - loss: 0.5907 - accuracy: 0.6867 - val_loss: 0.5445 - val_accuracy: 0.7273\n",
      "Epoch 3/20\n",
      "213/213 [==============================] - 5s 23ms/step - loss: 0.5113 - accuracy: 0.7514 - val_loss: 0.4898 - val_accuracy: 0.7637\n",
      "Epoch 4/20\n",
      "213/213 [==============================] - 5s 23ms/step - loss: 0.4626 - accuracy: 0.7823 - val_loss: 0.4616 - val_accuracy: 0.7791\n",
      "Epoch 5/20\n",
      "213/213 [==============================] - 5s 23ms/step - loss: 0.4285 - accuracy: 0.8025 - val_loss: 0.4373 - val_accuracy: 0.7950\n",
      "Epoch 6/20\n",
      "213/213 [==============================] - 5s 23ms/step - loss: 0.4023 - accuracy: 0.8188 - val_loss: 0.4260 - val_accuracy: 0.8012\n",
      "Epoch 7/20\n",
      "213/213 [==============================] - 5s 23ms/step - loss: 0.3808 - accuracy: 0.8309 - val_loss: 0.4130 - val_accuracy: 0.8107\n",
      "Epoch 8/20\n",
      "213/213 [==============================] - 5s 23ms/step - loss: 0.3632 - accuracy: 0.8410 - val_loss: 0.4059 - val_accuracy: 0.8157\n",
      "Epoch 9/20\n",
      "213/213 [==============================] - 5s 23ms/step - loss: 0.3480 - accuracy: 0.8497 - val_loss: 0.4030 - val_accuracy: 0.8170\n",
      "Epoch 10/20\n",
      "213/213 [==============================] - 5s 23ms/step - loss: 0.3339 - accuracy: 0.8579 - val_loss: 0.3975 - val_accuracy: 0.8212\n",
      "Epoch 11/20\n",
      "213/213 [==============================] - 5s 23ms/step - loss: 0.3214 - accuracy: 0.8636 - val_loss: 0.3948 - val_accuracy: 0.8234\n",
      "Epoch 12/20\n",
      "213/213 [==============================] - 5s 23ms/step - loss: 0.3090 - accuracy: 0.8702 - val_loss: 0.3954 - val_accuracy: 0.8250\n",
      "Epoch 13/20\n",
      "213/213 [==============================] - 5s 23ms/step - loss: 0.2970 - accuracy: 0.8768 - val_loss: 0.3938 - val_accuracy: 0.8260\n",
      "Epoch 14/20\n",
      "213/213 [==============================] - 5s 23ms/step - loss: 0.2859 - accuracy: 0.8817 - val_loss: 0.3933 - val_accuracy: 0.8276\n",
      "Epoch 15/20\n",
      "213/213 [==============================] - 5s 23ms/step - loss: 0.2764 - accuracy: 0.8869 - val_loss: 0.3970 - val_accuracy: 0.8275\n",
      "Epoch 16/20\n",
      "213/213 [==============================] - 5s 23ms/step - loss: 0.2650 - accuracy: 0.8924 - val_loss: 0.3973 - val_accuracy: 0.8283\n",
      "Epoch 17/20\n",
      "213/213 [==============================] - 5s 23ms/step - loss: 0.2552 - accuracy: 0.8972 - val_loss: 0.3997 - val_accuracy: 0.8285\n",
      "Epoch 18/20\n",
      "213/213 [==============================] - 5s 23ms/step - loss: 0.2453 - accuracy: 0.9022 - val_loss: 0.4045 - val_accuracy: 0.8287\n",
      "Epoch 19/20\n",
      "213/213 [==============================] - 5s 24ms/step - loss: 0.2352 - accuracy: 0.9072 - val_loss: 0.4085 - val_accuracy: 0.8292\n",
      "Epoch 20/20\n",
      "213/213 [==============================] - 5s 25ms/step - loss: 0.2265 - accuracy: 0.9113 - val_loss: 0.4119 - val_accuracy: 0.8279\n"
     ]
    }
   ],
   "source": [
    "# 학습의 진행\n",
    "model.compile(optimizer='adam',\n",
    "              loss='binary_crossentropy',\n",
    "              metrics=['accuracy'])\n",
    "              \n",
    "epochs=20  # 몇 epoch를 훈련하면 좋을지 결과를 보면서 바꾸어 봅시다. \n",
    "\n",
    "history = model.fit(partial_x_train,\n",
    "                    partial_y_train,\n",
    "                    epochs=epochs,\n",
    "                    batch_size=512,\n",
    "                    validation_data=(x_val, y_val),\n",
    "                    verbose=1)"
   ]
  },
  {
   "cell_type": "code",
   "execution_count": 32,
   "id": "forbidden-lindsay",
   "metadata": {},
   "outputs": [
    {
     "name": "stdout",
     "output_type": "stream",
     "text": [
      "dict_keys(['loss', 'accuracy', 'val_loss', 'val_accuracy'])\n"
     ]
    },
    {
     "data": {
      "image/png": "[encoded data removed]",
      "text/plain": [
       "<Figure size 432x288 with 1 Axes>"
      ]
     },
     "metadata": {
      "needs_background": "light"
     },
     "output_type": "display_data"
    },
    {
     "data": {
      "image/png": "[encoded data removed]",
      "text/plain": [
       "<Figure size 432x288 with 1 Axes>"
      ]
     },
     "metadata": {
      "needs_background": "light"
     },
     "output_type": "display_data"
    }
   ],
   "source": [
    "history_dict = history.history\n",
    "print(history_dict.keys()) # epoch에 따른 그래프를 그려볼 수 있는 항목들\n",
    "import matplotlib.pyplot as plt\n",
    "\n",
    "acc = history_dict['accuracy']\n",
    "val_acc = history_dict['val_accuracy']\n",
    "loss = history_dict['loss']\n",
    "val_loss = history_dict['val_loss']\n",
    "\n",
    "epochs = range(1, len(acc) + 1)\n",
    "\n",
    "# \"bo\"는 \"파란색 점\"입니다\n",
    "plt.plot(epochs, loss, 'bo', label='Training loss')\n",
    "# b는 \"파란 실선\"입니다\n",
    "plt.plot(epochs, val_loss, 'b', label='Validation loss')\n",
    "plt.title('Training and validation loss')\n",
    "plt.xlabel('Epochs')\n",
    "plt.ylabel('Loss')\n",
    "plt.legend()\n",
    "\n",
    "plt.show()\n",
    "\n",
    "plt.clf()   # 그림을 초기화합니다\n",
    "\n",
    "plt.plot(epochs, acc, 'bo', label='Training acc')\n",
    "plt.plot(epochs, val_acc, 'b', label='Validation acc')\n",
    "plt.title('Training and validation accuracy')\n",
    "plt.xlabel('Epochs')\n",
    "plt.ylabel('Accuracy')\n",
    "plt.legend()\n",
    "\n",
    "plt.show()"
   ]
  },
  {
   "cell_type": "markdown",
   "id": "gorgeous-thong",
   "metadata": {},
   "source": [
    "벨리데이션 로스 값이 11에서 12로 갈때 로스값이 증가하여 에폭값을 11로 정하였다"
   ]
  },
  {
   "cell_type": "code",
   "execution_count": 33,
   "id": "brazilian-arrangement",
   "metadata": {},
   "outputs": [
    {
     "name": "stdout",
     "output_type": "stream",
     "text": [
      "Model: \"sequential_7\"\n",
      "_________________________________________________________________\n",
      "Layer (type)                 Output Shape              Param #   \n",
      "=================================================================\n",
      "embedding_7 (Embedding)      (None, 41, 200)           2000000   \n",
      "_________________________________________________________________\n",
      "global_max_pooling1d_5 (Glob (None, 200)               0         \n",
      "_________________________________________________________________\n",
      "dense_14 (Dense)             (None, 8)                 1608      \n",
      "_________________________________________________________________\n",
      "dense_15 (Dense)             (None, 1)                 9         \n",
      "=================================================================\n",
      "Total params: 2,001,617\n",
      "Trainable params: 2,001,617\n",
      "Non-trainable params: 0\n",
      "_________________________________________________________________\n"
     ]
    }
   ],
   "source": [
    "from tensorflow.keras.initializers import Constant\n",
    "\n",
    "vocab_size = 10000    # 어휘 사전의 크기입니다(10,000개의 단어)\n",
    "word_vector_dim = 200  # 워드 벡터의 차원수 (변경가능한 하이퍼파라미터)\n",
    "\n",
    "# 모델 구성\n",
    "model = keras.Sequential()\n",
    "model.add(keras.layers.Embedding(vocab_size, \n",
    "                                 word_vector_dim, \n",
    "                                 embeddings_initializer=Constant(embedding_matrix),  # 카피한 임베딩을 여기서 활용\n",
    "                                 input_length=maxlen, \n",
    "                                 trainable=True))   # trainable을 True로 주면 Fine-tuning\n",
    "model.add(keras.layers.GlobalMaxPooling1D())\n",
    "model.add(keras.layers.Dense(8, activation='relu'))\n",
    "model.add(keras.layers.Dense(1, activation='sigmoid'))  # 최종 출력은 긍정/부정을 나타내는 1dim 입니다.\n",
    "model.summary()"
   ]
  },
  {
   "cell_type": "code",
   "execution_count": 34,
   "id": "fuzzy-first",
   "metadata": {},
   "outputs": [
    {
     "name": "stdout",
     "output_type": "stream",
     "text": [
      "Epoch 1/11\n",
      "213/213 [==============================] - 5s 24ms/step - loss: 0.6877 - accuracy: 0.5703 - val_loss: 0.6570 - val_accuracy: 0.6346\n",
      "Epoch 2/11\n",
      "213/213 [==============================] - 5s 23ms/step - loss: 0.6289 - accuracy: 0.6723 - val_loss: 0.5998 - val_accuracy: 0.7067\n",
      "Epoch 3/11\n",
      "213/213 [==============================] - 5s 23ms/step - loss: 0.5724 - accuracy: 0.7302 - val_loss: 0.5507 - val_accuracy: 0.7400\n",
      "Epoch 4/11\n",
      "213/213 [==============================] - 5s 23ms/step - loss: 0.5222 - accuracy: 0.7674 - val_loss: 0.5105 - val_accuracy: 0.7680\n",
      "Epoch 5/11\n",
      "213/213 [==============================] - 5s 23ms/step - loss: 0.4826 - accuracy: 0.7915 - val_loss: 0.4817 - val_accuracy: 0.7859\n",
      "Epoch 6/11\n",
      "213/213 [==============================] - 5s 24ms/step - loss: 0.4495 - accuracy: 0.8100 - val_loss: 0.4609 - val_accuracy: 0.7966\n",
      "Epoch 7/11\n",
      "213/213 [==============================] - 5s 23ms/step - loss: 0.4223 - accuracy: 0.8246 - val_loss: 0.4464 - val_accuracy: 0.8024\n",
      "Epoch 8/11\n",
      "213/213 [==============================] - 5s 23ms/step - loss: 0.3993 - accuracy: 0.8341 - val_loss: 0.4290 - val_accuracy: 0.8092\n",
      "Epoch 9/11\n",
      "213/213 [==============================] - 5s 24ms/step - loss: 0.3699 - accuracy: 0.8445 - val_loss: 0.4139 - val_accuracy: 0.8151\n",
      "Epoch 10/11\n",
      "213/213 [==============================] - 5s 23ms/step - loss: 0.3494 - accuracy: 0.8554 - val_loss: 0.4046 - val_accuracy: 0.8203\n",
      "Epoch 11/11\n",
      "213/213 [==============================] - 5s 23ms/step - loss: 0.3338 - accuracy: 0.8625 - val_loss: 0.4032 - val_accuracy: 0.8217\n"
     ]
    }
   ],
   "source": [
    "# 학습의 진행\n",
    "model.compile(optimizer='adam',\n",
    "              loss='binary_crossentropy',\n",
    "              metrics=['accuracy'])\n",
    "              \n",
    "epochs=11  # 몇 epoch를 훈련하면 좋을지 결과를 보면서 바꾸어 봅시다. \n",
    "\n",
    "history = model.fit(partial_x_train,\n",
    "                    partial_y_train,\n",
    "                    epochs=epochs,\n",
    "                    batch_size=512,\n",
    "                    validation_data=(x_val, y_val),\n",
    "                    verbose=1)"
   ]
  },
  {
   "cell_type": "code",
   "execution_count": 35,
   "id": "scheduled-spread",
   "metadata": {},
   "outputs": [
    {
     "name": "stdout",
     "output_type": "stream",
     "text": [
      "1537/1537 - 2s - loss: 0.4146 - accuracy: 0.8157\n",
      "[0.4146278500556946, 0.8156926035881042]\n"
     ]
    }
   ],
   "source": [
    "# 테스트셋을 통한 모델 평가\n",
    "results = model.evaluate(x_test,  y_test, verbose=2)\n",
    "\n",
    "print(results)"
   ]
  },
  {
   "cell_type": "markdown",
   "id": "portable-stopping",
   "metadata": {},
   "source": [
    "- **GlobalMaxPooling1D MODEL 정확도81.6%**"
   ]
  },
  {
   "cell_type": "markdown",
   "id": "light-reduction",
   "metadata": {},
   "source": [
    "# 고찰 \n",
    "학습된 임베딩 모델을 불러와서 3가지 모델로 오버피팅 되지않게 조정하고 테스트를 해보았다.  \n",
    "가장 좋은 결과는 LSTM모델의 것이었는데 86%로 목표치에 도달할 수 있었다.  \n",
    "### 아쉬운 점\n",
    "하이퍼파라미터 수정은 LSTM의 모델만 조금 수정하였었는데 그것이 가장 높게나와 모델다양화가 좋은 선택인지 하이퍼파라미터가 좋은 선택인지 알기 힘들어져서 나중에 정확도를 올리기위해서 선뜻 뭐부터하기 힘들어졌는데 간단하게 수정하기 편한것은 하이퍼파라미터라서 나중에는 하이퍼파라미터부터 할 것 같다."
   ]
  }
 ],
 "metadata": {
  "kernelspec": {
   "display_name": "aiffel",
   "language": "python",
   "name": "aiffel"
  },
  "language_info": {
   "codemirror_mode": {
    "name": "ipython",
    "version": 3
   },
   "file_extension": ".py",
   "mimetype": "text/x-python",
   "name": "python",
   "nbconvert_exporter": "python",
   "pygments_lexer": "ipython3",
   "version": "3.7.9"
  }
 },
 "nbformat": 4,
 "nbformat_minor": 5
}
