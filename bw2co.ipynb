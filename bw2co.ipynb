{
 "metadata": {
  "language_info": {
   "codemirror_mode": {
    "name": "ipython",
    "version": 3
   },
   "file_extension": ".py",
   "mimetype": "text/x-python",
   "name": "python",
   "nbconvert_exporter": "python",
   "pygments_lexer": "ipython3",
   "version": "3.7.7-final"
  },
  "orig_nbformat": 2,
  "kernelspec": {
   "name": "python377jvsc74a57bd05dcd25db860f322e7812c1d309f1dab864d62b30d309380c77b218a49b82d714",
   "display_name": "Python 3.7.7 64-bit ('aiffel': conda)"
  }
 },
 "nbformat": 4,
 "nbformat_minor": 2,
 "cells": [
  {
   "source": [
    "# 데이터 수집"
   ],
   "cell_type": "markdown",
   "metadata": {}
  },
  {
   "cell_type": "code",
   "execution_count": 12,
   "metadata": {},
   "outputs": [
    {
     "output_type": "stream",
     "name": "stdout",
     "text": [
      "https://pixabay.com/get/gbc28d8f1de4af21a36d4c3210cc6b1fd7bc22cee2bd2901473931a1f205b5310460d8344f5a00bb489c0ccd39a36d5ca80cd9e000021fd8453b745d61cfe0c86_1280.jpg\n"
     ]
    }
   ],
   "source": [
    "from pixabay import Image as pImg\n",
    "import requests\n",
    "API_KEY = '21152268-bc09c6f7d43cb6300320eaf14'\n",
    "crarimg = pImg(API_KEY)\n",
    "img = crarimg.search(q='풍경',category='nature')\n",
    "# print(img)\n",
    "print(img['hits'][0]['largeImageURL'])\n"
   ]
  },
  {
   "cell_type": "code",
   "execution_count": 13,
   "metadata": {},
   "outputs": [
    {
     "output_type": "execute_result",
     "data": {
      "text/plain": [
       "12"
      ]
     },
     "metadata": {},
     "execution_count": 13
    }
   ],
   "source": []
  }
 ]
}