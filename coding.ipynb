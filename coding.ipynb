{
 "metadata": {
  "language_info": {
   "codemirror_mode": {
    "name": "ipython",
    "version": 3
   },
   "file_extension": ".py",
   "mimetype": "text/x-python",
   "name": "python",
   "nbconvert_exporter": "python",
   "pygments_lexer": "ipython3",
   "version": "3.7.7-final"
  },
  "orig_nbformat": 2,
  "kernelspec": {
   "name": "python3",
   "display_name": "Python 3.7.7 64-bit ('aiffel': conda)",
   "metadata": {
    "interpreter": {
     "hash": "5dcd25db860f322e7812c1d309f1dab864d62b30d309380c77b218a49b82d714"
    }
   }
  }
 },
 "nbformat": 4,
 "nbformat_minor": 2,
 "cells": [
  {
   "cell_type": "code",
   "execution_count": 43,
   "metadata": {},
   "outputs": [],
   "source": [
    "def solution(array, commands):\n",
    "    a = []\n",
    "    answer = []\n",
    "    for i in commands:\n",
    "        for j in range(i[0]-1,i[1]):\n",
    "            a.append(array[j])\n",
    "            a.sort()\n",
    "            if j == i[1]-1:\n",
    "                k = a[i[2]-1]\n",
    "                answer.append(k)\n",
    "                a =[] \n",
    "\n",
    "        \n",
    "        \n",
    "            \n",
    "\n",
    "    return answer"
   ]
  },
  {
   "cell_type": "code",
   "execution_count": 22,
   "metadata": {},
   "outputs": [],
   "source": [
    "def solution(ci):\n",
    "    ci.sort(reverse= True)\n",
    "    a = 0\n",
    "    for i in ci:\n",
    "        a += 1\n",
    "        if i <= a:\n",
    "            answer = i\n",
    "            break                \n",
    "    return answer"
   ]
  },
  {
   "cell_type": "code",
   "execution_count": null,
   "metadata": {},
   "outputs": [],
   "source": [
    "def solution(ci):\n",
    "    ci.sort(reverse= True)\n",
    "    \n",
    "    for a,i in enumerate(ci):\n",
    "        if i <= a+1:\n",
    "            answer = i\n",
    "            break                \n",
    "    return answer"
   ]
  },
  {
   "cell_type": "code",
   "execution_count": 28,
   "metadata": {},
   "outputs": [
    {
     "output_type": "stream",
     "name": "stdout",
     "text": [
      "4\n"
     ]
    },
    {
     "output_type": "execute_result",
     "data": {
      "text/plain": [
       "[6, 6, 6, 6, 6, 4, 4, 4, 3, 3, 2, 1, 0]"
      ]
     },
     "metadata": {},
     "execution_count": 28
    }
   ],
   "source": [
    "a = [3,0,6,1,4,4,4,3,6,6,6,6,2]\n",
    "\n",
    "print(solution(a))\n",
    "a.sort(reverse=True)\n",
    "a"
   ]
  },
  {
   "cell_type": "code",
   "execution_count": 44,
   "metadata": {},
   "outputs": [
    {
     "output_type": "execute_result",
     "data": {
      "text/plain": [
       "[5, 6, 3]"
      ]
     },
     "metadata": {},
     "execution_count": 44
    }
   ],
   "source": [
    "arra = [1,5,2,6,3,7,4]\n",
    "co = [[2,5,3],[4,4,1],[1,7,3]]\n",
    "solution(arra,co)"
   ]
  },
  {
   "cell_type": "code",
   "execution_count": 28,
   "metadata": {},
   "outputs": [
    {
     "output_type": "stream",
     "name": "stdout",
     "text": [
      "[5]\n2\n"
     ]
    },
    {
     "output_type": "error",
     "ename": "IndexError",
     "evalue": "list index out of range",
     "traceback": [
      "\u001b[0;31m---------------------------------------------------------------------------\u001b[0m",
      "\u001b[0;31mIndexError\u001b[0m                                Traceback (most recent call last)",
      "\u001b[0;32m<ipython-input-28-927e789fd5eb>\u001b[0m in \u001b[0;36m<module>\u001b[0;34m\u001b[0m\n\u001b[1;32m      9\u001b[0m         \u001b[0mprint\u001b[0m\u001b[0;34m(\u001b[0m\u001b[0ma\u001b[0m\u001b[0;34m)\u001b[0m\u001b[0;34m\u001b[0m\u001b[0;34m\u001b[0m\u001b[0m\n\u001b[1;32m     10\u001b[0m         \u001b[0mprint\u001b[0m\u001b[0;34m(\u001b[0m\u001b[0mi\u001b[0m\u001b[0;34m[\u001b[0m\u001b[0;36m2\u001b[0m\u001b[0;34m]\u001b[0m\u001b[0;34m-\u001b[0m\u001b[0;36m1\u001b[0m\u001b[0;34m)\u001b[0m\u001b[0;34m\u001b[0m\u001b[0;34m\u001b[0m\u001b[0m\n\u001b[0;32m---> 11\u001b[0;31m         \u001b[0mprint\u001b[0m\u001b[0;34m(\u001b[0m\u001b[0ma\u001b[0m\u001b[0;34m[\u001b[0m\u001b[0mi\u001b[0m\u001b[0;34m[\u001b[0m\u001b[0;36m2\u001b[0m\u001b[0;34m]\u001b[0m\u001b[0;34m-\u001b[0m\u001b[0;36m1\u001b[0m\u001b[0;34m]\u001b[0m\u001b[0;34m)\u001b[0m\u001b[0;34m\u001b[0m\u001b[0;34m\u001b[0m\u001b[0m\n\u001b[0m",
      "\u001b[0;31mIndexError\u001b[0m: list index out of range"
     ]
    }
   ],
   "source": [
    "def solution(numbers):\n",
    "    \n",
    "    \n",
    "    \n",
    "    answer = ''\n",
    "    return answer"
   ]
  },
  {
   "cell_type": "code",
   "execution_count": 139,
   "metadata": {},
   "outputs": [],
   "source": [
    "numbers = [3,30,34,5,9,122,132,101,100]\n",
    "# c = []\n",
    "# a.sort(key= str)\n",
    "# b = str(a[0])\n",
    "# for i in a\n",
    "    \n",
    "#     c.append()\n",
    "# a[0]/10\n",
    "# for i in a:\n",
    "# answer = ''\n",
    "# len(str(a[2]))\n",
    "ans =''\n",
    "def solution(numbers):\n",
    "    answer = ''\n",
    "    numbers.sort(key= str)\n",
    "    for i in numbers:\n",
    "        if len(str(i)) > 1:\n",
    "            numbers = len(str(i))\n",
    "            if int(str(i)[numbers-1]) < int(str(i)[0]):\n",
    "                answer = answer[:(len(str(i))-1)] + str(i) + answer[(len(str(i))-1):]\n",
    "            else:\n",
    "                answer = str(i)+answer \n",
    "        else:\n",
    "            answer = str(i) +answer\n",
    "    return answer\n",
    "\n"
   ]
  },
  {
   "cell_type": "code",
   "execution_count": 142,
   "metadata": {},
   "outputs": [
    {
     "output_type": "execute_result",
     "data": {
      "text/plain": [
       "[100, 101, 122, 132, 3, 30, 34, 5, 9]"
      ]
     },
     "metadata": {},
     "execution_count": 142
    }
   ],
   "source": [
    "solution(numbers)\n",
    "numbers.sort(key= str)\n",
    "numbers"
   ]
  }
 ]
}