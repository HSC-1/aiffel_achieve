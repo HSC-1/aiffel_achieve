{
 "cells": [
  {
   "cell_type": "markdown",
   "id": "portuguese-concord",
   "metadata": {},
   "source": [
    "# (E4) 네이버 영화댓글 감성분석\n",
    "### 데이터 준비  \n",
    "데이터는 [naver sentiment movie corpus](https://github.com/e9t/nsmc)에서 master/ratings_train.txt, master/ratings_test.txt 를 다운 받았다  \n"
   ]
  },
  {
   "cell_type": "markdown",
   "id": "german-invalid",
   "metadata": {},
   "source": [
    "### 데이터 확인\n",
    "데이터를 확인하기위해 pandas를 사용하여 표로 만들어줬다"
   ]
  },
  {
   "cell_type": "code",
   "execution_count": 1,
   "id": "virtual-buffer",
   "metadata": {},
   "outputs": [
    {
     "data": {
      "text/html": [
       "<div>\n",
       "<style scoped>\n",
       "    .dataframe tbody tr th:only-of-type {\n",
       "        vertical-align: middle;\n",
       "    }\n",
       "\n",
       "    .dataframe tbody tr th {\n",
       "        vertical-align: top;\n",
       "    }\n",
       "\n",
       "    .dataframe thead th {\n",
       "        text-align: right;\n",
       "    }\n",
       "</style>\n",
       "<table border=\"1\" class=\"dataframe\">\n",
       "  <thead>\n",
       "    <tr style=\"text-align: right;\">\n",
       "      <th></th>\n",
       "      <th>id</th>\n",
       "      <th>document</th>\n",
       "      <th>label</th>\n",
       "    </tr>\n",
       "  </thead>\n",
       "  <tbody>\n",
       "    <tr>\n",
       "      <th>0</th>\n",
       "      <td>9976970</td>\n",
       "      <td>아 더빙.. 진짜 짜증나네요 목소리</td>\n",
       "      <td>0</td>\n",
       "    </tr>\n",
       "    <tr>\n",
       "      <th>1</th>\n",
       "      <td>3819312</td>\n",
       "      <td>흠...포스터보고 초딩영화줄....오버연기조차 가볍지 않구나</td>\n",
       "      <td>1</td>\n",
       "    </tr>\n",
       "    <tr>\n",
       "      <th>2</th>\n",
       "      <td>10265843</td>\n",
       "      <td>너무재밓었다그래서보는것을추천한다</td>\n",
       "      <td>0</td>\n",
       "    </tr>\n",
       "    <tr>\n",
       "      <th>3</th>\n",
       "      <td>9045019</td>\n",
       "      <td>교도소 이야기구먼 ..솔직히 재미는 없다..평점 조정</td>\n",
       "      <td>0</td>\n",
       "    </tr>\n",
       "    <tr>\n",
       "      <th>4</th>\n",
       "      <td>6483659</td>\n",
       "      <td>사이몬페그의 익살스런 연기가 돋보였던 영화!스파이더맨에서 늙어보이기만 했던 커스틴 ...</td>\n",
       "      <td>1</td>\n",
       "    </tr>\n",
       "  </tbody>\n",
       "</table>\n",
       "</div>"
      ],
      "text/plain": [
       "         id                                           document  label\n",
       "0   9976970                                아 더빙.. 진짜 짜증나네요 목소리      0\n",
       "1   3819312                  흠...포스터보고 초딩영화줄....오버연기조차 가볍지 않구나      1\n",
       "2  10265843                                  너무재밓었다그래서보는것을추천한다      0\n",
       "3   9045019                      교도소 이야기구먼 ..솔직히 재미는 없다..평점 조정      0\n",
       "4   6483659  사이몬페그의 익살스런 연기가 돋보였던 영화!스파이더맨에서 늙어보이기만 했던 커스틴 ...      1"
      ]
     },
     "execution_count": 1,
     "metadata": {},
     "output_type": "execute_result"
    }
   ],
   "source": [
    "import pandas as pd\n",
    "import urllib.request\n",
    "%matplotlib inline\n",
    "import matplotlib.pyplot as plt\n",
    "import re\n",
    "from konlpy.tag import Okt\n",
    "from tensorflow import keras\n",
    "from tensorflow.keras.preprocessing.text import Tokenizer\n",
    "import numpy as np\n",
    "from tensorflow.keras.preprocessing.sequence import pad_sequences\n",
    "from collections import Counter\n",
    "\n",
    "# 데이터를 읽어봅시다. \n",
    "train_data = pd.read_table('~/aiffel/sentiment_classification/ratings_train.txt')\n",
    "test_data = pd.read_table('~/aiffel/sentiment_classification/ratings_test.txt')\n",
    "\n",
    "train_data.head()"
   ]
  },
  {
   "cell_type": "markdown",
   "id": "atmospheric-junction",
   "metadata": {},
   "source": [
    "### 데이터 로더 구성 \n",
    "\n",
    "- 데이터 중복 상태 점검\n",
    "- stopword 제거\n",
    "- word_to_index 구성\n"
   ]
  },
  {
   "cell_type": "code",
   "execution_count": 2,
   "id": "another-vitamin",
   "metadata": {},
   "outputs": [],
   "source": [
    "from konlpy.tag import Mecab\n",
    "tokenizer = Mecab()\n",
    "stopwords = ['의','가','이','은','들','는','좀','잘','걍','과','도','를','으로','자','에','와','한','하다']\n",
    "\n",
    "def load_data(train_data, test_data, num_words=10000):\n",
    "    train_data.drop_duplicates(subset=['document'], inplace=True)\n",
    "    train_data = train_data.dropna(how = 'any') \n",
    "    test_data.drop_duplicates(subset=['document'], inplace=True)\n",
    "    test_data = test_data.dropna(how = 'any') \n",
    "\n",
    "    X_train = []\n",
    "    for sentence in train_data['document']:\n",
    "        temp_X = tokenizer.morphs(sentence) # 토큰화\n",
    "        temp_X = [word for word in temp_X if not word in stopwords] # 불용어 제거\n",
    "        X_train.append(temp_X)\n",
    "\n",
    "    X_test = []\n",
    "    for sentence in test_data['document']:\n",
    "        temp_X = tokenizer.morphs(sentence) # 토큰화\n",
    "        temp_X = [word for word in temp_X if not word in stopwords] # 불용어 제거\n",
    "        X_test.append(temp_X)\n",
    "\n",
    "    words = np.concatenate(X_train).tolist()\n",
    "    counter = Counter(words)\n",
    "    counter = counter.most_common(10000-4)\n",
    "    vocab = ['<PAD>', '<BOS>', '<UNK>', '<UNUSED>'] + [key for key, _ in counter]\n",
    "    word_to_index = {word:index for index, word in enumerate(vocab)}\n",
    "\n",
    "    def wordlist_to_indexlist(wordlist):\n",
    "        return [word_to_index[word] if word in word_to_index else word_to_index['<UNK>'] for word in wordlist]\n",
    "\n",
    "    X_train = list(map(wordlist_to_indexlist, X_train))\n",
    "    X_test = list(map(wordlist_to_indexlist, X_test))\n",
    "\n",
    "    return X_train, np.array(list(train_data['label'])), X_test, np.array(list(test_data['label'])), word_to_index\n",
    "\n",
    "X_train, y_train, X_test, y_test, word_to_index = load_data(train_data, test_data) "
   ]
  },
  {
   "cell_type": "code",
   "execution_count": 3,
   "id": "inner-apple",
   "metadata": {},
   "outputs": [],
   "source": [
    "index_to_word = {index:word for word, index in word_to_index.items()}"
   ]
  },
  {
   "cell_type": "markdown",
   "id": "anonymous-blocking",
   "metadata": {},
   "source": [
    "### 인코딩 디코딩 함수 "
   ]
  },
  {
   "cell_type": "code",
   "execution_count": 4,
   "id": "generic-singles",
   "metadata": {},
   "outputs": [],
   "source": [
    "# 문장 1개를 활용할 딕셔너리와 함께 주면, 단어 인덱스 리스트 벡터로 변환해 주는 함수입니다. \n",
    "# 단, 모든 문장은 <BOS>로 시작하는 것으로 합니다. \n",
    "def get_encoded_sentence(sentence, word_to_index):\n",
    "    return [word_to_index['<BOS>']]+[word_to_index[word] if word in word_to_index else word_to_index['<UNK>'] for word in sentence.split()]\n",
    "\n",
    "# 여러 개의 문장 리스트를 한꺼번에 단어 인덱스 리스트 벡터로 encode해 주는 함수입니다. \n",
    "def get_encoded_sentences(sentences, word_to_index):\n",
    "    return [get_encoded_sentence(sentence, word_to_index) for sentence in sentences]\n",
    "\n",
    "# 숫자 벡터로 encode된 문장을 원래대로 decode하는 함수입니다. \n",
    "def get_decoded_sentence(encoded_sentence, index_to_word):\n",
    "    return ' '.join(index_to_word[index] if index in index_to_word else '<UNK>' for index in encoded_sentence[1:])  #[1:]를 통해 <BOS>를 제외\n",
    "\n",
    "# 여러개의 숫자 벡터로 encode된 문장을 한꺼번에 원래대로 decode하는 함수입니다. \n",
    "def get_decoded_sentences(encoded_sentences, index_to_word):\n",
    "    return [get_decoded_sentence(encoded_sentence, index_to_word) for encoded_sentence in encoded_sentences]"
   ]
  },
  {
   "cell_type": "markdown",
   "id": "statutory-cotton",
   "metadata": {},
   "source": [
    "### 데이터 셋 내 문장 길이 분포 및 지정"
   ]
  },
  {
   "cell_type": "code",
   "execution_count": 5,
   "id": "convertible-fleece",
   "metadata": {},
   "outputs": [
    {
     "name": "stdout",
     "output_type": "stream",
     "text": [
      "문장길이 평균 :  15.969355837799927\n",
      "문장길이 최대 :  116\n",
      "문장길이 표준편차 :  12.843536204665021\n",
      "pad_sequences maxlen :  41\n",
      "전체 문장의 0.9342988343341575%가 maxlen 설정값 이내에 포함됩니다. \n"
     ]
    }
   ],
   "source": [
    "total_data_text = list(X_train) + list(X_test)\n",
    "# 텍스트데이터 문장길이의 리스트를 생성한 후\n",
    "num_tokens = [len(tokens) for tokens in total_data_text]\n",
    "num_tokens = np.array(num_tokens)\n",
    "# 문장길이의 평균값, 최대값, 표준편차를 계산해 본다. \n",
    "print('문장길이 평균 : ', np.mean(num_tokens))\n",
    "print('문장길이 최대 : ', np.max(num_tokens))\n",
    "print('문장길이 표준편차 : ', np.std(num_tokens))\n",
    "\n",
    "# 예를들어, 최대 길이를 (평균 + 2*표준편차)로 한다면,  \n",
    "max_tokens = np.mean(num_tokens) + 2 * np.std(num_tokens)\n",
    "maxlen = int(max_tokens)\n",
    "print('pad_sequences maxlen : ', maxlen)\n",
    "print('전체 문장의 {}%가 maxlen 설정값 이내에 포함됩니다. '.format(np.sum(num_tokens < max_tokens) / len(num_tokens)))\n"
   ]
  },
  {
   "cell_type": "markdown",
   "id": "vertical-injury",
   "metadata": {},
   "source": [
    "### keras.preprocessing.sequence를 이용하여 padding  \n",
    "방식은 pre로 하였다."
   ]
  },
  {
   "cell_type": "code",
   "execution_count": 6,
   "id": "scientific-calgary",
   "metadata": {},
   "outputs": [],
   "source": [
    "x_train = keras.preprocessing.sequence.pad_sequences(X_train,\n",
    "                                                       value=word_to_index['<PAD>'],\n",
    "                                                       padding='pre',\n",
    "                                                       maxlen=41)\n",
    "x_test = keras.preprocessing.sequence.pad_sequences(X_test,\n",
    "                                                       value=word_to_index['<PAD>'],\n",
    "                                                       padding='pre',\n",
    "                                                       maxlen=41)\n"
   ]
  },
  {
   "cell_type": "markdown",
   "id": "finnish-caution",
   "metadata": {},
   "source": [
    "### validation set 설정"
   ]
  },
  {
   "cell_type": "code",
   "execution_count": 7,
   "id": "liable-aircraft",
   "metadata": {
    "scrolled": true
   },
   "outputs": [
    {
     "name": "stdout",
     "output_type": "stream",
     "text": [
      "(108682,)\n"
     ]
    }
   ],
   "source": [
    "# validation set 37500건 분리\n",
    "x_val = x_train[:37500]   \n",
    "y_val = y_train[:37500]\n",
    "\n",
    "# validation set을 제외한 나머지 37500건\n",
    "partial_x_train = x_train[37500:]  \n",
    "partial_y_train = y_train[37500:]\n",
    "\n",
    "\n",
    "print(partial_y_train.shape)"
   ]
  },
  {
   "cell_type": "code",
   "execution_count": 8,
   "id": "presidential-secretary",
   "metadata": {},
   "outputs": [
    {
     "name": "stdout",
     "output_type": "stream",
     "text": [
      "Model: \"sequential\"\n",
      "_________________________________________________________________\n",
      "Layer (type)                 Output Shape              Param #   \n",
      "=================================================================\n",
      "embedding (Embedding)        (None, None, 16)          160000    \n",
      "_________________________________________________________________\n",
      "conv1d (Conv1D)              (None, None, 16)          1808      \n",
      "_________________________________________________________________\n",
      "max_pooling1d (MaxPooling1D) (None, None, 16)          0         \n",
      "_________________________________________________________________\n",
      "conv1d_1 (Conv1D)            (None, None, 16)          1808      \n",
      "_________________________________________________________________\n",
      "global_max_pooling1d (Global (None, 16)                0         \n",
      "_________________________________________________________________\n",
      "dense (Dense)                (None, 8)                 136       \n",
      "_________________________________________________________________\n",
      "dense_1 (Dense)              (None, 1)                 9         \n",
      "=================================================================\n",
      "Total params: 163,761\n",
      "Trainable params: 163,761\n",
      "Non-trainable params: 0\n",
      "_________________________________________________________________\n"
     ]
    }
   ],
   "source": [
    "vocab_size = 10000    # 어휘 사전의 크기입니다(10,000개의 단어)\n",
    "word_vector_dim = 16  # 워드 벡터의 차원수 (변경가능한 하이퍼파라미터)\n",
    "\n",
    "# model 설계 - 딥러닝 모델 코드를 직접 작성해 주세요.\n",
    "model = keras.Sequential()\n",
    "# [[YOUR CODE]]\n",
    "model.add(keras.layers.Embedding(vocab_size, word_vector_dim, input_shape=(None,)))\n",
    "model.add(keras.layers.Conv1D(16, 7, activation='relu'))\n",
    "model.add(keras.layers.MaxPooling1D(5))\n",
    "model.add(keras.layers.Conv1D(16, 7, activation='relu'))\n",
    "model.add(keras.layers.GlobalMaxPooling1D())\n",
    "model.add(keras.layers.Dense(8, activation='relu'))\n",
    "model.add(keras.layers.Dense(1, activation='sigmoid'))  # 최종 출력은 긍정/부정을 나타내는 1dim 입니다.\n",
    "\n",
    "\n",
    "model.summary()"
   ]
  },
  {
   "cell_type": "code",
   "execution_count": 9,
   "id": "radio-colombia",
   "metadata": {
    "scrolled": true
   },
   "outputs": [
    {
     "name": "stdout",
     "output_type": "stream",
     "text": [
      "Epoch 1/20\n",
      "213/213 [==============================] - 7s 32ms/step - loss: 0.5522 - accuracy: 0.7032 - val_loss: 0.3672 - val_accuracy: 0.8383\n",
      "Epoch 2/20\n",
      "213/213 [==============================] - 1s 6ms/step - loss: 0.3334 - accuracy: 0.8577 - val_loss: 0.3407 - val_accuracy: 0.8526\n",
      "Epoch 3/20\n",
      "213/213 [==============================] - 1s 6ms/step - loss: 0.2939 - accuracy: 0.8775 - val_loss: 0.3419 - val_accuracy: 0.8518\n",
      "Epoch 4/20\n",
      "213/213 [==============================] - 1s 6ms/step - loss: 0.2652 - accuracy: 0.8919 - val_loss: 0.3486 - val_accuracy: 0.8522\n",
      "Epoch 5/20\n",
      "213/213 [==============================] - 1s 5ms/step - loss: 0.2379 - accuracy: 0.9051 - val_loss: 0.3589 - val_accuracy: 0.8517\n",
      "Epoch 6/20\n",
      "213/213 [==============================] - 1s 5ms/step - loss: 0.2091 - accuracy: 0.9199 - val_loss: 0.3744 - val_accuracy: 0.8492\n",
      "Epoch 7/20\n",
      "213/213 [==============================] - 1s 5ms/step - loss: 0.1788 - accuracy: 0.9338 - val_loss: 0.4077 - val_accuracy: 0.8456\n",
      "Epoch 8/20\n",
      "213/213 [==============================] - 1s 6ms/step - loss: 0.1523 - accuracy: 0.9459 - val_loss: 0.4439 - val_accuracy: 0.8422\n",
      "Epoch 9/20\n",
      "213/213 [==============================] - 1s 6ms/step - loss: 0.1282 - accuracy: 0.9558 - val_loss: 0.4952 - val_accuracy: 0.8388\n",
      "Epoch 10/20\n",
      "213/213 [==============================] - 1s 5ms/step - loss: 0.1080 - accuracy: 0.9637 - val_loss: 0.5298 - val_accuracy: 0.8349\n",
      "Epoch 11/20\n",
      "213/213 [==============================] - 1s 5ms/step - loss: 0.0919 - accuracy: 0.9705 - val_loss: 0.5733 - val_accuracy: 0.8335\n",
      "Epoch 12/20\n",
      "213/213 [==============================] - 1s 5ms/step - loss: 0.0775 - accuracy: 0.9760 - val_loss: 0.6194 - val_accuracy: 0.8273\n",
      "Epoch 13/20\n",
      "213/213 [==============================] - 1s 5ms/step - loss: 0.0685 - accuracy: 0.9794 - val_loss: 0.6936 - val_accuracy: 0.8303\n",
      "Epoch 14/20\n",
      "213/213 [==============================] - 1s 5ms/step - loss: 0.0592 - accuracy: 0.9826 - val_loss: 0.7259 - val_accuracy: 0.8264\n",
      "Epoch 15/20\n",
      "213/213 [==============================] - 1s 5ms/step - loss: 0.0522 - accuracy: 0.9853 - val_loss: 0.7723 - val_accuracy: 0.8255\n",
      "Epoch 16/20\n",
      "213/213 [==============================] - 1s 5ms/step - loss: 0.0495 - accuracy: 0.9856 - val_loss: 0.8130 - val_accuracy: 0.8238\n",
      "Epoch 17/20\n",
      "213/213 [==============================] - 1s 5ms/step - loss: 0.0447 - accuracy: 0.9877 - val_loss: 0.8627 - val_accuracy: 0.8249\n",
      "Epoch 18/20\n",
      "213/213 [==============================] - 1s 6ms/step - loss: 0.0406 - accuracy: 0.9891 - val_loss: 0.8948 - val_accuracy: 0.8212\n",
      "Epoch 19/20\n",
      "213/213 [==============================] - 1s 5ms/step - loss: 0.0384 - accuracy: 0.9898 - val_loss: 0.9673 - val_accuracy: 0.8221\n",
      "Epoch 20/20\n",
      "213/213 [==============================] - 1s 6ms/step - loss: 0.0352 - accuracy: 0.9906 - val_loss: 1.0115 - val_accuracy: 0.8202\n"
     ]
    }
   ],
   "source": [
    "model.compile(optimizer='adam',\n",
    "              loss='binary_crossentropy',\n",
    "              metrics=['accuracy'])\n",
    "              \n",
    "epochs=20  # 몇 epoch를 훈련하면 좋을지 결과를 보면서 바꾸어 봅시다. \n",
    "\n",
    "history = model.fit(partial_x_train,\n",
    "                    partial_y_train,\n",
    "                    epochs=epochs,\n",
    "                    batch_size=512,\n",
    "                    validation_data=(x_val, y_val),\n",
    "                    verbose=1)"
   ]
  },
  {
   "cell_type": "code",
   "execution_count": 10,
   "id": "systematic-turkey",
   "metadata": {
    "scrolled": false
   },
   "outputs": [
    {
     "name": "stdout",
     "output_type": "stream",
     "text": [
      "dict_keys(['loss', 'accuracy', 'val_loss', 'val_accuracy'])\n"
     ]
    },
    {
     "data": {
      "image/png": "[encoded data removed]",
      "text/plain": [
       "<Figure size 432x288 with 1 Axes>"
      ]
     },
     "metadata": {
      "needs_background": "light"
     },
     "output_type": "display_data"
    },
    {
     "data": {
      "image/png": "[encoded data removed]",
      "text/plain": [
       "<Figure size 432x288 with 1 Axes>"
      ]
     },
     "metadata": {
      "needs_background": "light"
     },
     "output_type": "display_data"
    }
   ],
   "source": [
    "history_dict = history.history\n",
    "print(history_dict.keys()) # epoch에 따른 그래프를 그려볼 수 있는 항목들\n",
    "import matplotlib.pyplot as plt\n",
    "\n",
    "acc = history_dict['accuracy']\n",
    "val_acc = history_dict['val_accuracy']\n",
    "loss = history_dict['loss']\n",
    "val_loss = history_dict['val_loss']\n",
    "\n",
    "epochs = range(1, len(acc) + 1)\n",
    "\n",
    "# \"bo\"는 \"파란색 점\"입니다\n",
    "plt.plot(epochs, loss, 'bo', label='Training loss')\n",
    "# b는 \"파란 실선\"입니다\n",
    "plt.plot(epochs, val_loss, 'b', label='Validation loss')\n",
    "plt.title('Training and validation loss')\n",
    "plt.xlabel('Epochs')\n",
    "plt.ylabel('Loss')\n",
    "plt.legend()\n",
    "\n",
    "plt.show()\n",
    "\n",
    "plt.clf()   # 그림을 초기화합니다\n",
    "\n",
    "plt.plot(epochs, acc, 'bo', label='Training acc')\n",
    "plt.plot(epochs, val_acc, 'b', label='Validation acc')\n",
    "plt.title('Training and validation accuracy')\n",
    "plt.xlabel('Epochs')\n",
    "plt.ylabel('Accuracy')\n",
    "plt.legend()\n",
    "\n",
    "plt.show()"
   ]
  },
  {
   "cell_type": "code",
   "execution_count": 11,
   "id": "ignored-consolidation",
   "metadata": {},
   "outputs": [
    {
     "name": "stdout",
     "output_type": "stream",
     "text": [
      "1537/1537 - 4s - loss: 1.0519 - accuracy: 0.8149\n",
      "[1.0519278049468994, 0.814899206161499]\n"
     ]
    }
   ],
   "source": [
    "results = model.evaluate(x_test,  y_test, verbose=2)\n",
    "\n",
    "print(results)"
   ]
  },
  {
   "cell_type": "markdown",
   "id": "conditional-determination",
   "metadata": {},
   "source": [
    "### 학습한 임베딩 레이어 확인"
   ]
  },
  {
   "cell_type": "code",
   "execution_count": 12,
   "id": "duplicate-senate",
   "metadata": {
    "scrolled": true
   },
   "outputs": [],
   "source": [
    "import os\n",
    "\n",
    "# 학습한 Embedding 파라미터를 파일에 써서 저장합니다. \n",
    "word2vec_file_path = os.getenv('HOME')+'/aiffel/sentiment_classification/word2vec.txt'\n",
    "f = open(word2vec_file_path, 'w')\n",
    "f.write('{} {}\\n'.format(vocab_size-4, word_vector_dim))  # 몇개의 벡터를 얼마 사이즈로 기재할지 타이틀을 씁니다.\n",
    "\n",
    "# 단어 개수(에서 특수문자 4개는 제외하고)만큼의 워드 벡터를 파일에 기록합니다. \n",
    "vectors = model.get_weights()[0]\n",
    "for i in range(4,vocab_size):\n",
    "    f.write('{} {}\\n'.format(index_to_word[i], ' '.join(map(str, list(vectors[i, :])))))\n",
    "f.close()\n"
   ]
  },
  {
   "cell_type": "code",
   "execution_count": 13,
   "id": "focused-nature",
   "metadata": {},
   "outputs": [
    {
     "data": {
      "text/plain": [
       "array([-0.10827329, -0.00112017,  0.05286736, -0.00947975,  0.09213554,\n",
       "        0.1957618 , -0.08929519, -0.06826863, -0.08417085,  0.19317466,\n",
       "        0.21214001,  0.02651594,  0.03720649, -0.15019083,  0.07117512,\n",
       "       -0.09727211], dtype=float32)"
      ]
     },
     "execution_count": 13,
     "metadata": {},
     "output_type": "execute_result"
    }
   ],
   "source": [
    "\n",
    "from gensim.models.keyedvectors import Word2VecKeyedVectors\n",
    "\n",
    "word_vectors = Word2VecKeyedVectors.load_word2vec_format(word2vec_file_path, binary=False)\n",
    "vector = word_vectors['강아지']\n",
    "vector\n"
   ]
  },
  {
   "cell_type": "markdown",
   "id": "running-mercury",
   "metadata": {},
   "source": [
    "### 한국어 Word2Vec 임베딩 활용하기 "
   ]
  },
  {
   "cell_type": "code",
   "execution_count": 14,
   "id": "minute-basics",
   "metadata": {},
   "outputs": [
    {
     "name": "stderr",
     "output_type": "stream",
     "text": [
      "/home/aiffel-dj26/anaconda3/envs/aiffel/lib/python3.7/site-packages/ipykernel_launcher.py:13: DeprecationWarning: Call to deprecated `__contains__` (Method will be removed in 4.0.0, use self.wv.__contains__() instead).\n",
      "  del sys.path[0]\n",
      "/home/aiffel-dj26/anaconda3/envs/aiffel/lib/python3.7/site-packages/ipykernel_launcher.py:14: DeprecationWarning: Call to deprecated `__getitem__` (Method will be removed in 4.0.0, use self.wv.__getitem__() instead).\n",
      "  \n"
     ]
    }
   ],
   "source": [
    "import os\n",
    "import gensim\n",
    "word2vec_file_path = os.getenv('HOME')+'/aiffel/sentiment_classification/ko/ko.bin'\n",
    "\n",
    "ko_model = gensim.models.Word2Vec.load(word2vec_file_path)\n",
    "a = ko_model.wv.most_similar(\"강아지\")\n",
    "\n",
    "vocab_size = 10000\n",
    "word_vector_dim = 200\n",
    "\n",
    "embedding_matrix = np.random.rand(vocab_size,word_vector_dim )\n",
    "for i in range(4,vocab_size):\n",
    "    if index_to_word[i] in ko_model:\n",
    "        embedding_matrix[i] = ko_model[index_to_word[i]]"
   ]
  },
  {
   "cell_type": "code",
   "execution_count": 15,
   "id": "analyzed-preview",
   "metadata": {},
   "outputs": [
    {
     "name": "stdout",
     "output_type": "stream",
     "text": [
      "Model: \"sequential_1\"\n",
      "_________________________________________________________________\n",
      "Layer (type)                 Output Shape              Param #   \n",
      "=================================================================\n",
      "embedding_1 (Embedding)      (None, 41, 200)           2000000   \n",
      "_________________________________________________________________\n",
      "conv1d_2 (Conv1D)            (None, 35, 16)            22416     \n",
      "_________________________________________________________________\n",
      "max_pooling1d_1 (MaxPooling1 (None, 7, 16)             0         \n",
      "_________________________________________________________________\n",
      "conv1d_3 (Conv1D)            (None, 1, 16)             1808      \n",
      "_________________________________________________________________\n",
      "global_max_pooling1d_1 (Glob (None, 16)                0         \n",
      "_________________________________________________________________\n",
      "dense_2 (Dense)              (None, 8)                 136       \n",
      "_________________________________________________________________\n",
      "dense_3 (Dense)              (None, 1)                 9         \n",
      "=================================================================\n",
      "Total params: 2,024,369\n",
      "Trainable params: 2,024,369\n",
      "Non-trainable params: 0\n",
      "_________________________________________________________________\n"
     ]
    }
   ],
   "source": [
    "from tensorflow.keras.initializers import Constant\n",
    "\n",
    "vocab_size = 10000    # 어휘 사전의 크기입니다(10,000개의 단어)\n",
    "word_vector_dim = 200  # 워드 벡터의 차원수 (변경가능한 하이퍼파라미터)\n",
    "\n",
    "# 모델 구성\n",
    "model = keras.Sequential()\n",
    "model.add(keras.layers.Embedding(vocab_size, \n",
    "                                 word_vector_dim, \n",
    "                                 embeddings_initializer=Constant(embedding_matrix),  # 카피한 임베딩을 여기서 활용\n",
    "                                 input_length=maxlen, \n",
    "                                 trainable=True))   # trainable을 True로 주면 Fine-tuning\n",
    "model.add(keras.layers.Conv1D(16, 7, activation='relu'))\n",
    "model.add(keras.layers.MaxPooling1D(5))\n",
    "model.add(keras.layers.Conv1D(16, 7, activation='relu'))\n",
    "model.add(keras.layers.GlobalMaxPooling1D())\n",
    "model.add(keras.layers.Dense(8, activation='relu'))\n",
    "model.add(keras.layers.Dense(1, activation='sigmoid')) \n",
    "\n",
    "model.summary()"
   ]
  },
  {
   "cell_type": "code",
   "execution_count": 16,
   "id": "gorgeous-prospect",
   "metadata": {
    "scrolled": true
   },
   "outputs": [
    {
     "name": "stdout",
     "output_type": "stream",
     "text": [
      "Epoch 1/20\n",
      "213/213 [==============================] - 9s 44ms/step - loss: 0.5680 - accuracy: 0.6869 - val_loss: 0.4516 - val_accuracy: 0.7886\n",
      "Epoch 2/20\n",
      "213/213 [==============================] - 6s 28ms/step - loss: 0.3944 - accuracy: 0.8233 - val_loss: 0.3821 - val_accuracy: 0.8283\n",
      "Epoch 3/20\n",
      "213/213 [==============================] - 6s 28ms/step - loss: 0.3336 - accuracy: 0.8571 - val_loss: 0.3604 - val_accuracy: 0.8412\n",
      "Epoch 4/20\n",
      "213/213 [==============================] - 6s 29ms/step - loss: 0.2941 - accuracy: 0.8779 - val_loss: 0.3565 - val_accuracy: 0.8440\n",
      "Epoch 5/20\n",
      "213/213 [==============================] - 6s 28ms/step - loss: 0.2662 - accuracy: 0.8930 - val_loss: 0.3696 - val_accuracy: 0.8431\n",
      "Epoch 6/20\n",
      "213/213 [==============================] - 6s 28ms/step - loss: 0.2416 - accuracy: 0.9042 - val_loss: 0.3714 - val_accuracy: 0.8442\n",
      "Epoch 7/20\n",
      "213/213 [==============================] - 6s 29ms/step - loss: 0.2190 - accuracy: 0.9150 - val_loss: 0.3839 - val_accuracy: 0.8408\n",
      "Epoch 8/20\n",
      "213/213 [==============================] - 6s 28ms/step - loss: 0.1968 - accuracy: 0.9255 - val_loss: 0.4098 - val_accuracy: 0.8404\n",
      "Epoch 9/20\n",
      "213/213 [==============================] - 6s 28ms/step - loss: 0.1758 - accuracy: 0.9359 - val_loss: 0.4347 - val_accuracy: 0.8391\n",
      "Epoch 10/20\n",
      "213/213 [==============================] - 6s 28ms/step - loss: 0.1578 - accuracy: 0.9428 - val_loss: 0.4625 - val_accuracy: 0.8344\n",
      "Epoch 11/20\n",
      "213/213 [==============================] - 6s 28ms/step - loss: 0.1376 - accuracy: 0.9520 - val_loss: 0.4992 - val_accuracy: 0.8331\n",
      "Epoch 12/20\n",
      "213/213 [==============================] - 6s 29ms/step - loss: 0.1189 - accuracy: 0.9599 - val_loss: 0.5317 - val_accuracy: 0.8334\n",
      "Epoch 13/20\n",
      "213/213 [==============================] - 6s 28ms/step - loss: 0.1033 - accuracy: 0.9663 - val_loss: 0.5714 - val_accuracy: 0.8323\n",
      "Epoch 14/20\n",
      "213/213 [==============================] - 6s 28ms/step - loss: 0.0915 - accuracy: 0.9708 - val_loss: 0.5884 - val_accuracy: 0.8310\n",
      "Epoch 15/20\n",
      "213/213 [==============================] - 6s 28ms/step - loss: 0.0792 - accuracy: 0.9748 - val_loss: 0.6319 - val_accuracy: 0.8311\n",
      "Epoch 16/20\n",
      "213/213 [==============================] - 6s 28ms/step - loss: 0.0711 - accuracy: 0.9781 - val_loss: 0.6904 - val_accuracy: 0.8287\n",
      "Epoch 17/20\n",
      "213/213 [==============================] - 6s 28ms/step - loss: 0.0636 - accuracy: 0.9810 - val_loss: 0.7318 - val_accuracy: 0.8258\n",
      "Epoch 18/20\n",
      "213/213 [==============================] - 6s 28ms/step - loss: 0.0614 - accuracy: 0.9805 - val_loss: 0.7509 - val_accuracy: 0.8262\n",
      "Epoch 19/20\n",
      "213/213 [==============================] - 6s 29ms/step - loss: 0.0540 - accuracy: 0.9833 - val_loss: 0.8125 - val_accuracy: 0.8292\n",
      "Epoch 20/20\n",
      "213/213 [==============================] - 6s 30ms/step - loss: 0.0493 - accuracy: 0.9851 - val_loss: 0.7911 - val_accuracy: 0.8267\n"
     ]
    }
   ],
   "source": [
    "# 학습의 진행\n",
    "model.compile(optimizer='adam',\n",
    "              loss='binary_crossentropy',\n",
    "              metrics=['accuracy'])\n",
    "              \n",
    "epochs=20  # 몇 epoch를 훈련하면 좋을지 결과를 보면서 바꾸어 봅시다. \n",
    "\n",
    "history = model.fit(partial_x_train,\n",
    "                    partial_y_train,\n",
    "                    epochs=epochs,\n",
    "                    batch_size=512,\n",
    "                    validation_data=(x_val, y_val),\n",
    "                    verbose=1)"
   ]
  },
  {
   "cell_type": "code",
   "execution_count": 17,
   "id": "banner-context",
   "metadata": {},
   "outputs": [
    {
     "name": "stdout",
     "output_type": "stream",
     "text": [
      "dict_keys(['loss', 'accuracy', 'val_loss', 'val_accuracy'])\n"
     ]
    },
    {
     "data": {
      "image/png": "[encoded data removed]",
      "text/plain": [
       "<Figure size 432x288 with 1 Axes>"
      ]
     },
     "metadata": {
      "needs_background": "light"
     },
     "output_type": "display_data"
    },
    {
     "data": {
      "image/png": "[encoded data removed]",
      "text/plain": [
       "<Figure size 432x288 with 1 Axes>"
      ]
     },
     "metadata": {
      "needs_background": "light"
     },
     "output_type": "display_data"
    }
   ],
   "source": [
    "history_dict = history.history\n",
    "print(history_dict.keys()) # epoch에 따른 그래프를 그려볼 수 있는 항목들\n",
    "import matplotlib.pyplot as plt\n",
    "\n",
    "acc = history_dict['accuracy']\n",
    "val_acc = history_dict['val_accuracy']\n",
    "loss = history_dict['loss']\n",
    "val_loss = history_dict['val_loss']\n",
    "\n",
    "epochs = range(1, len(acc) + 1)\n",
    "\n",
    "# \"bo\"는 \"파란색 점\"입니다\n",
    "plt.plot(epochs, loss, 'bo', label='Training loss')\n",
    "# b는 \"파란 실선\"입니다\n",
    "plt.plot(epochs, val_loss, 'b', label='Validation loss')\n",
    "plt.title('Training and validation loss')\n",
    "plt.xlabel('Epochs')\n",
    "plt.ylabel('Loss')\n",
    "plt.legend()\n",
    "\n",
    "plt.show()\n",
    "\n",
    "plt.clf()   # 그림을 초기화합니다\n",
    "\n",
    "plt.plot(epochs, acc, 'bo', label='Training acc')\n",
    "plt.plot(epochs, val_acc, 'b', label='Validation acc')\n",
    "plt.title('Training and validation accuracy')\n",
    "plt.xlabel('Epochs')\n",
    "plt.ylabel('Accuracy')\n",
    "plt.legend()\n",
    "\n",
    "plt.show()"
   ]
  },
  {
   "cell_type": "markdown",
   "id": "variable-database",
   "metadata": {},
   "source": [
    "### 학습된 임베딩 레이어 에폭 조정\n",
    "이미 학습된 임베딩이라 그런지 과적합이 금방 일어난다. 과적합 판단 여부는 validation loss가 줄어들다가 상승할때를 잡았다. \n",
    "3번째를 지나서 과적합이 일어났으므로 에폭을 3번으로 바꾸고 다시하였다."
   ]
  },
  {
   "cell_type": "code",
   "execution_count": 18,
   "id": "constitutional-ultimate",
   "metadata": {},
   "outputs": [
    {
     "name": "stdout",
     "output_type": "stream",
     "text": [
      "Model: \"sequential_2\"\n",
      "_________________________________________________________________\n",
      "Layer (type)                 Output Shape              Param #   \n",
      "=================================================================\n",
      "embedding_2 (Embedding)      (None, 41, 200)           2000000   \n",
      "_________________________________________________________________\n",
      "conv1d_4 (Conv1D)            (None, 35, 16)            22416     \n",
      "_________________________________________________________________\n",
      "max_pooling1d_2 (MaxPooling1 (None, 7, 16)             0         \n",
      "_________________________________________________________________\n",
      "conv1d_5 (Conv1D)            (None, 1, 16)             1808      \n",
      "_________________________________________________________________\n",
      "global_max_pooling1d_2 (Glob (None, 16)                0         \n",
      "_________________________________________________________________\n",
      "dense_4 (Dense)              (None, 8)                 136       \n",
      "_________________________________________________________________\n",
      "dense_5 (Dense)              (None, 1)                 9         \n",
      "=================================================================\n",
      "Total params: 2,024,369\n",
      "Trainable params: 2,024,369\n",
      "Non-trainable params: 0\n",
      "_________________________________________________________________\n"
     ]
    }
   ],
   "source": [
    "from tensorflow.keras.initializers import Constant\n",
    "\n",
    "vocab_size = 10000    # 어휘 사전의 크기입니다(10,000개의 단어)\n",
    "word_vector_dim = 200  # 워드 벡터의 차원수 (변경가능한 하이퍼파라미터)\n",
    "\n",
    "# 모델 구성\n",
    "model = keras.Sequential()\n",
    "model.add(keras.layers.Embedding(vocab_size, \n",
    "                                 word_vector_dim, \n",
    "                                 embeddings_initializer=Constant(embedding_matrix),  # 카피한 임베딩을 여기서 활용\n",
    "                                 input_length=maxlen, \n",
    "                                 trainable=True))   # trainable을 True로 주면 Fine-tuning\n",
    "model.add(keras.layers.Conv1D(16, 7, activation='relu'))\n",
    "model.add(keras.layers.MaxPooling1D(5))\n",
    "model.add(keras.layers.Conv1D(16, 7, activation='relu'))\n",
    "model.add(keras.layers.GlobalMaxPooling1D())\n",
    "model.add(keras.layers.Dense(8, activation='relu'))\n",
    "model.add(keras.layers.Dense(1, activation='sigmoid')) \n",
    "\n",
    "model.summary()"
   ]
  },
  {
   "cell_type": "code",
   "execution_count": 19,
   "id": "aboriginal-polls",
   "metadata": {},
   "outputs": [
    {
     "name": "stdout",
     "output_type": "stream",
     "text": [
      "Epoch 1/3\n",
      "213/213 [==============================] - 7s 31ms/step - loss: 0.5542 - accuracy: 0.7051 - val_loss: 0.4539 - val_accuracy: 0.7871\n",
      "Epoch 2/3\n",
      "213/213 [==============================] - 6s 29ms/step - loss: 0.4014 - accuracy: 0.8210 - val_loss: 0.3880 - val_accuracy: 0.8270\n",
      "Epoch 3/3\n",
      "213/213 [==============================] - 6s 30ms/step - loss: 0.3392 - accuracy: 0.8556 - val_loss: 0.3652 - val_accuracy: 0.8382\n"
     ]
    }
   ],
   "source": [
    "# 학습의 진행\n",
    "model.compile(optimizer='adam',\n",
    "              loss='binary_crossentropy',\n",
    "              metrics=['accuracy'])\n",
    "              \n",
    "epochs=3  # 몇 epoch를 훈련하면 좋을지 결과를 보면서 바꾸어 봅시다. \n",
    "\n",
    "history = model.fit(partial_x_train,\n",
    "                    partial_y_train,\n",
    "                    epochs=epochs,\n",
    "                    batch_size=512,\n",
    "                    validation_data=(x_val, y_val),\n",
    "                    verbose=1)"
   ]
  },
  {
   "cell_type": "markdown",
   "id": "expected-minority",
   "metadata": {},
   "source": [
    "이제 학습된 임베딩을 활용하여 한것을 테스트 하였다"
   ]
  },
  {
   "cell_type": "code",
   "execution_count": 20,
   "id": "conditional-harmony",
   "metadata": {},
   "outputs": [
    {
     "name": "stdout",
     "output_type": "stream",
     "text": [
      "1537/1537 - 4s - loss: 0.3730 - accuracy: 0.8360\n",
      "[0.37301376461982727, 0.8360355496406555]\n"
     ]
    }
   ],
   "source": [
    "# 테스트셋을 통한 모델 평가\n",
    "results = model.evaluate(x_test,  y_test, verbose=2)\n",
    "\n",
    "print(results)"
   ]
  },
  {
   "cell_type": "markdown",
   "id": "annoying-indiana",
   "metadata": {},
   "source": [
    "83프로로 학습된 임베딩 없이 한 모델의 정확도 81프로의 수치보다 약간 높아졌다.하지만 너무 적은 수치라 모델을 다른것을 사용하거나 하이퍼파라미터를 변경해야한다고 생각한다. 하지만 둘다 해보기엔 무리가 있어보여 모델을 다른것을 해보기로 하였다."
   ]
  },
  {
   "cell_type": "code",
   "execution_count": 21,
   "id": "wound-contact",
   "metadata": {},
   "outputs": [
    {
     "name": "stdout",
     "output_type": "stream",
     "text": [
      "Model: \"sequential_3\"\n",
      "_________________________________________________________________\n",
      "Layer (type)                 Output Shape              Param #   \n",
      "=================================================================\n",
      "embedding_3 (Embedding)      (None, 41, 200)           2000000   \n",
      "_________________________________________________________________\n",
      "lstm (LSTM)                  (None, 256)               467968    \n",
      "_________________________________________________________________\n",
      "dense_6 (Dense)              (None, 8)                 2056      \n",
      "_________________________________________________________________\n",
      "dense_7 (Dense)              (None, 1)                 9         \n",
      "=================================================================\n",
      "Total params: 2,470,033\n",
      "Trainable params: 2,470,033\n",
      "Non-trainable params: 0\n",
      "_________________________________________________________________\n"
     ]
    }
   ],
   "source": [
    "from tensorflow.keras.initializers import Constant\n",
    "\n",
    "vocab_size = 10000    # 어휘 사전의 크기입니다(10,000개의 단어)\n",
    "word_vector_dim = 200  # 워드 벡터의 차원수 (변경가능한 하이퍼파라미터)\n",
    "\n",
    "# 모델 구성\n",
    "model = keras.Sequential()\n",
    "model.add(keras.layers.Embedding(vocab_size, \n",
    "                                 word_vector_dim, \n",
    "                                 embeddings_initializer=Constant(embedding_matrix),  # 카피한 임베딩을 여기서 활용\n",
    "                                 input_length=maxlen, \n",
    "                                 trainable=True))   # trainable을 True로 주면 Fine-tuning\n",
    "model.add(keras.layers.LSTM(256))   # 가장 널리 쓰이는 RNN인 LSTM 레이어를 사용하였습니다. 이때 LSTM state 벡터의 차원수는 8로 하였습니다. (변경가능)\n",
    "model.add(keras.layers.Dense(8, activation='relu'))\n",
    "model.add(keras.layers.Dense(1, activation='sigmoid'))  # 최종 출력은 긍정/부정을 나타내는 1dim 입니다.\n",
    "\n",
    "model.summary()"
   ]
  },
  {
   "cell_type": "code",
   "execution_count": 22,
   "id": "settled-solution",
   "metadata": {
    "scrolled": true
   },
   "outputs": [
    {
     "name": "stdout",
     "output_type": "stream",
     "text": [
      "Epoch 1/20\n",
      "213/213 [==============================] - 9s 44ms/step - loss: 0.4543 - accuracy: 0.7804 - val_loss: 0.3613 - val_accuracy: 0.8390\n",
      "Epoch 2/20\n",
      "213/213 [==============================] - 9s 41ms/step - loss: 0.3260 - accuracy: 0.8589 - val_loss: 0.3277 - val_accuracy: 0.8572\n",
      "Epoch 3/20\n",
      "213/213 [==============================] - 9s 41ms/step - loss: 0.2794 - accuracy: 0.8824 - val_loss: 0.3147 - val_accuracy: 0.8653\n",
      "Epoch 4/20\n",
      "213/213 [==============================] - 9s 41ms/step - loss: 0.2436 - accuracy: 0.8994 - val_loss: 0.3233 - val_accuracy: 0.8663\n",
      "Epoch 5/20\n",
      "213/213 [==============================] - 9s 41ms/step - loss: 0.2096 - accuracy: 0.9156 - val_loss: 0.3234 - val_accuracy: 0.8654\n",
      "Epoch 6/20\n",
      "213/213 [==============================] - 9s 41ms/step - loss: 0.1769 - accuracy: 0.9303 - val_loss: 0.3620 - val_accuracy: 0.8664\n",
      "Epoch 7/20\n",
      "213/213 [==============================] - 9s 41ms/step - loss: 0.1453 - accuracy: 0.9442 - val_loss: 0.3829 - val_accuracy: 0.8612\n",
      "Epoch 8/20\n",
      "213/213 [==============================] - 9s 41ms/step - loss: 0.1125 - accuracy: 0.9574 - val_loss: 0.4416 - val_accuracy: 0.8593\n",
      "Epoch 9/20\n",
      "213/213 [==============================] - 9s 41ms/step - loss: 0.0906 - accuracy: 0.9665 - val_loss: 0.5075 - val_accuracy: 0.8563\n",
      "Epoch 10/20\n",
      "213/213 [==============================] - 9s 41ms/step - loss: 0.0693 - accuracy: 0.9741 - val_loss: 0.5598 - val_accuracy: 0.8539\n",
      "Epoch 11/20\n",
      "213/213 [==============================] - 9s 41ms/step - loss: 0.0566 - accuracy: 0.9791 - val_loss: 0.6201 - val_accuracy: 0.8535\n",
      "Epoch 12/20\n",
      "213/213 [==============================] - 9s 40ms/step - loss: 0.0441 - accuracy: 0.9834 - val_loss: 0.6899 - val_accuracy: 0.8542\n",
      "Epoch 13/20\n",
      "213/213 [==============================] - 9s 40ms/step - loss: 0.0367 - accuracy: 0.9861 - val_loss: 0.7410 - val_accuracy: 0.8559\n",
      "Epoch 14/20\n",
      "213/213 [==============================] - 9s 41ms/step - loss: 0.0368 - accuracy: 0.9864 - val_loss: 0.7563 - val_accuracy: 0.8562\n",
      "Epoch 15/20\n",
      "213/213 [==============================] - 9s 41ms/step - loss: 0.0277 - accuracy: 0.9892 - val_loss: 0.8380 - val_accuracy: 0.8545\n",
      "Epoch 16/20\n",
      "213/213 [==============================] - 9s 41ms/step - loss: 0.0270 - accuracy: 0.9895 - val_loss: 0.8221 - val_accuracy: 0.8538\n",
      "Epoch 17/20\n",
      "213/213 [==============================] - 9s 41ms/step - loss: 0.0211 - accuracy: 0.9917 - val_loss: 0.9253 - val_accuracy: 0.8569\n",
      "Epoch 18/20\n",
      "213/213 [==============================] - 9s 41ms/step - loss: 0.0200 - accuracy: 0.9919 - val_loss: 0.9545 - val_accuracy: 0.8535\n",
      "Epoch 19/20\n",
      "213/213 [==============================] - 9s 41ms/step - loss: 0.0287 - accuracy: 0.9891 - val_loss: 0.9290 - val_accuracy: 0.8566\n",
      "Epoch 20/20\n",
      "213/213 [==============================] - 9s 41ms/step - loss: 0.0184 - accuracy: 0.9927 - val_loss: 0.9922 - val_accuracy: 0.8557\n"
     ]
    }
   ],
   "source": [
    "# 학습의 진행\n",
    "model.compile(optimizer='adam',\n",
    "              loss='binary_crossentropy',\n",
    "              metrics=['accuracy'])\n",
    "              \n",
    "epochs=20  # 몇 epoch를 훈련하면 좋을지 결과를 보면서 바꾸어 봅시다. \n",
    "\n",
    "history = model.fit(partial_x_train,\n",
    "                    partial_y_train,\n",
    "                    epochs=epochs,\n",
    "                    batch_size=512,\n",
    "                    validation_data=(x_val, y_val),\n",
    "                    verbose=1)"
   ]
  },
  {
   "cell_type": "code",
   "execution_count": 24,
   "id": "expanded-hudson",
   "metadata": {},
   "outputs": [
    {
     "name": "stdout",
     "output_type": "stream",
     "text": [
      "dict_keys(['loss', 'accuracy', 'val_loss', 'val_accuracy'])\n"
     ]
    },
    {
     "data": {
      "image/png": "[encoded data removed]",
      "text/plain": [
       "<Figure size 432x288 with 1 Axes>"
      ]
     },
     "metadata": {
      "needs_background": "light"
     },
     "output_type": "display_data"
    },
    {
     "data": {
      "image/png": "[encoded data removed]",
      "text/plain": [
       "<Figure size 432x288 with 1 Axes>"
      ]
     },
     "metadata": {
      "needs_background": "light"
     },
     "output_type": "display_data"
    }
   ],
   "source": [
    "history_dict = history.history\n",
    "print(history_dict.keys()) # epoch에 따른 그래프를 그려볼 수 있는 항목들\n",
    "import matplotlib.pyplot as plt\n",
    "\n",
    "acc = history_dict['accuracy']\n",
    "val_acc = history_dict['val_accuracy']\n",
    "loss = history_dict['loss']\n",
    "val_loss = history_dict['val_loss']\n",
    "\n",
    "epochs = range(1, len(acc) + 1)\n",
    "\n",
    "# \"bo\"는 \"파란색 점\"입니다\n",
    "plt.plot(epochs, loss, 'bo', label='Training loss')\n",
    "# b는 \"파란 실선\"입니다\n",
    "plt.plot(epochs, val_loss, 'b', label='Validation loss')\n",
    "plt.title('Training and validation loss')\n",
    "plt.xlabel('Epochs')\n",
    "plt.ylabel('Loss')\n",
    "plt.legend()\n",
    "\n",
    "plt.show()\n",
    "\n",
    "plt.clf()   # 그림을 초기화합니다\n",
    "\n",
    "plt.plot(epochs, acc, 'bo', label='Training acc')\n",
    "plt.plot(epochs, val_acc, 'b', label='Validation acc')\n",
    "plt.title('Training and validation accuracy')\n",
    "plt.xlabel('Epochs')\n",
    "plt.ylabel('Accuracy')\n",
    "plt.legend()\n",
    "\n",
    "plt.show()"
   ]
  },
  {
   "cell_type": "markdown",
   "id": "innocent-quebec",
   "metadata": {},
   "source": [
    "위의 그래프 상에 벨리데이션 로스 값이 올라가는 시점이 5에폭이라 4에폭으로 조정하였다."
   ]
  },
  {
   "cell_type": "code",
   "execution_count": 25,
   "id": "pressed-baltimore",
   "metadata": {},
   "outputs": [
    {
     "name": "stdout",
     "output_type": "stream",
     "text": [
      "Model: \"sequential_4\"\n",
      "_________________________________________________________________\n",
      "Layer (type)                 Output Shape              Param #   \n",
      "=================================================================\n",
      "embedding_4 (Embedding)      (None, 41, 200)           2000000   \n",
      "_________________________________________________________________\n",
      "lstm_1 (LSTM)                (None, 256)               467968    \n",
      "_________________________________________________________________\n",
      "dense_8 (Dense)              (None, 8)                 2056      \n",
      "_________________________________________________________________\n",
      "dense_9 (Dense)              (None, 1)                 9         \n",
      "=================================================================\n",
      "Total params: 2,470,033\n",
      "Trainable params: 2,470,033\n",
      "Non-trainable params: 0\n",
      "_________________________________________________________________\n"
     ]
    }
   ],
   "source": [
    "from tensorflow.keras.initializers import Constant\n",
    "\n",
    "vocab_size = 10000    # 어휘 사전의 크기입니다(10,000개의 단어)\n",
    "word_vector_dim = 200  # 워드 벡터의 차원수 (변경가능한 하이퍼파라미터)\n",
    "\n",
    "# 모델 구성\n",
    "model = keras.Sequential()\n",
    "model.add(keras.layers.Embedding(vocab_size, \n",
    "                                 word_vector_dim, \n",
    "                                 embeddings_initializer=Constant(embedding_matrix),  # 카피한 임베딩을 여기서 활용\n",
    "                                 input_length=maxlen, \n",
    "                                 trainable=True))   # trainable을 True로 주면 Fine-tuning\n",
    "model.add(keras.layers.LSTM(256))   # 가장 널리 쓰이는 RNN인 LSTM 레이어를 사용하였습니다. 이때 LSTM state 벡터의 차원수는 8로 하였습니다. (변경가능)\n",
    "model.add(keras.layers.Dense(8, activation='relu'))\n",
    "model.add(keras.layers.Dense(1, activation='sigmoid'))  # 최종 출력은 긍정/부정을 나타내는 1dim 입니다.\n",
    "\n",
    "model.summary()"
   ]
  },
  {
   "cell_type": "code",
   "execution_count": 26,
   "id": "adjacent-unemployment",
   "metadata": {},
   "outputs": [
    {
     "name": "stdout",
     "output_type": "stream",
     "text": [
      "Epoch 1/4\n",
      "213/213 [==============================] - 9s 42ms/step - loss: 0.4807 - accuracy: 0.7685 - val_loss: 0.3651 - val_accuracy: 0.8368\n",
      "Epoch 2/4\n",
      "213/213 [==============================] - 9s 41ms/step - loss: 0.3294 - accuracy: 0.8569 - val_loss: 0.3249 - val_accuracy: 0.8593\n",
      "Epoch 3/4\n",
      "213/213 [==============================] - 9s 41ms/step - loss: 0.2822 - accuracy: 0.8827 - val_loss: 0.3152 - val_accuracy: 0.8649\n",
      "Epoch 4/4\n",
      "213/213 [==============================] - 9s 41ms/step - loss: 0.2509 - accuracy: 0.8973 - val_loss: 0.3190 - val_accuracy: 0.8643\n"
     ]
    }
   ],
   "source": [
    "# 학습의 진행\n",
    "model.compile(optimizer='adam',\n",
    "              loss='binary_crossentropy',\n",
    "              metrics=['accuracy'])\n",
    "              \n",
    "epochs=4  # 몇 epoch를 훈련하면 좋을지 결과를 보면서 바꾸어 봅시다. \n",
    "\n",
    "history = model.fit(partial_x_train,\n",
    "                    partial_y_train,\n",
    "                    epochs=epochs,\n",
    "                    batch_size=512,\n",
    "                    validation_data=(x_val, y_val),\n",
    "                    verbose=1)"
   ]
  },
  {
   "cell_type": "code",
   "execution_count": 27,
   "id": "waiting-exercise",
   "metadata": {},
   "outputs": [
    {
     "name": "stdout",
     "output_type": "stream",
     "text": [
      "1537/1537 - 4s - loss: 0.3279 - accuracy: 0.8615\n",
      "[0.32790103554725647, 0.861525297164917]\n"
     ]
    }
   ],
   "source": [
    "# 테스트셋을 통한 모델 평가\n",
    "results = model.evaluate(x_test,  y_test, verbose=2)\n",
    "\n",
    "print(results)"
   ]
  },
  {
   "cell_type": "markdown",
   "id": "treated-lottery",
   "metadata": {},
   "source": []
  },
  {
   "cell_type": "code",
   "execution_count": null,
   "id": "republican-participation",
   "metadata": {},
   "outputs": [],
   "source": []
  },
  {
   "cell_type": "code",
   "execution_count": null,
   "id": "cordless-making",
   "metadata": {},
   "outputs": [],
   "source": []
  }
 ],
 "metadata": {
  "kernelspec": {
   "display_name": "aiffel",
   "language": "python",
   "name": "aiffel"
  },
  "language_info": {
   "codemirror_mode": {
    "name": "ipython",
    "version": 3
   },
   "file_extension": ".py",
   "mimetype": "text/x-python",
   "name": "python",
   "nbconvert_exporter": "python",
   "pygments_lexer": "ipython3",
   "version": "3.7.9"
  }
 },
 "nbformat": 4,
 "nbformat_minor": 5
}
