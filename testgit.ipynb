{
 "cells": [
  {
   "cell_type": "code",
   "execution_count": 6,
   "id": "pointed-watson",
   "metadata": {},
   "outputs": [
    {
     "name": "stdout",
     "output_type": "stream",
     "text": [
      "I'm process I'm process I'm process I'm process I'm process      \n",
      "\n",
      "\n",
      "\n",
      "\n",
      "   248522485124850 \n",
      "\n",
      "\n",
      "24849\n",
      " 24848\n",
      "[2, 4, 6, 8, 10]\n"
     ]
    }
   ],
   "source": [
    "from multiprocessing import Pool\n",
    "from os import getpid\n",
    "\n",
    "def double(i):\n",
    "    print(\"I'm process \",\"\\n\",getpid())    # pool 안에서 이 메소드가 실행될 때 pid를 확인해 봅시다.\n",
    "    return i * 2\n",
    "\n",
    "with Pool() as pool:\n",
    "    result = pool.map(double, [1, 2, 3, 4, 5])\n",
    "    print(result)"
   ]
  },
  {
   "cell_type": "code",
   "execution_count": 31,
   "id": "sticky-federal",
   "metadata": {},
   "outputs": [
    {
     "output_type": "error",
     "ename": "ValueError",
     "evalue": "invalid literal for int() with base 10: ''",
     "traceback": [
      "\u001b[0;31m---------------------------------------------------------------------------\u001b[0m",
      "\u001b[0;31mValueError\u001b[0m                                Traceback (most recent call last)",
      "\u001b[0;32m<ipython-input-31-8bc49f96449e>\u001b[0m in \u001b[0;36m<module>\u001b[0;34m\u001b[0m\n\u001b[1;32m      1\u001b[0m \u001b[0;32mimport\u001b[0m \u001b[0msys\u001b[0m\u001b[0;34m\u001b[0m\u001b[0;34m\u001b[0m\u001b[0m\n\u001b[0;32m----> 2\u001b[0;31m \u001b[0mn_iter\u001b[0m \u001b[0;34m=\u001b[0m \u001b[0mint\u001b[0m\u001b[0;34m(\u001b[0m\u001b[0msys\u001b[0m\u001b[0;34m.\u001b[0m\u001b[0mstdin\u001b[0m\u001b[0;34m.\u001b[0m\u001b[0mreadline\u001b[0m\u001b[0;34m(\u001b[0m\u001b[0;34m)\u001b[0m\u001b[0;34m)\u001b[0m\u001b[0;34m\u001b[0m\u001b[0;34m\u001b[0m\u001b[0m\n\u001b[0m\u001b[1;32m      3\u001b[0m \u001b[0mQ\u001b[0m \u001b[0;34m=\u001b[0m \u001b[0;34m[\u001b[0m\u001b[0;34m]\u001b[0m\u001b[0;34m\u001b[0m\u001b[0;34m\u001b[0m\u001b[0m\n\u001b[1;32m      4\u001b[0m \u001b[0;31m# ptr = 0\u001b[0m\u001b[0;34m\u001b[0m\u001b[0;34m\u001b[0m\u001b[0;34m\u001b[0m\u001b[0m\n\u001b[1;32m      5\u001b[0m \u001b[0;32mdef\u001b[0m \u001b[0mpush\u001b[0m\u001b[0;34m(\u001b[0m\u001b[0mvalue\u001b[0m\u001b[0;34m)\u001b[0m\u001b[0;34m:\u001b[0m\u001b[0;34m\u001b[0m\u001b[0;34m\u001b[0m\u001b[0m\n",
      "\u001b[0;31mValueError\u001b[0m: invalid literal for int() with base 10: ''"
     ]
    }
   ],
   "source": [
    "import sys\n",
    "n_iter = int(sys.stdin.readline())\n",
    "Q = []\n",
    "# ptr = 0\n",
    "def push(value):\n",
    "    Q.append(value)\n",
    "    # prt += 1\n",
    "\n",
    "def empty():\n",
    "    if len(Q) == 0:\n",
    "        print('1')\n",
    "    else:\n",
    "        print('0')\n",
    "\n",
    "def pop():\n",
    "    try:        \n",
    "        print(Q.pop(0))        \n",
    "    except:\n",
    "        print(\"-1\")\n",
    "\n",
    "def size():\n",
    "    return len(Q)\n",
    "\n",
    "def front():\n",
    "    try: \n",
    "        print(Q[0])\n",
    "    except:\n",
    "        print('-1')\n",
    "\n",
    "def back():\n",
    "    try:\n",
    "        print(Q[-1])\n",
    "    except:\n",
    "        print('-1')\n",
    "\n",
    "for _ in range(n_iter):\n",
    "    a = sys.stdin.readline().split()\n",
    "    if a[0] == 'push':\n",
    "        push(a[1])\n",
    "    elif a[0] == 'pop':\n",
    "        pop()\n",
    "    elif a[0] == 'empty':\n",
    "        empty()\n",
    "    elif a[0] == 'size':\n",
    "        print(size())\n",
    "    elif a[0] == 'front':\n",
    "        front()\n",
    "    elif a[0] == 'back':\n",
    "        back()\n",
    "\n"
   ]
  },
  {
   "cell_type": "code",
   "execution_count": 26,
   "metadata": {},
   "outputs": [
    {
     "output_type": "stream",
     "name": "stdout",
     "text": [
      "[14]\n14\n-1\n-1\n2\n[100, 10]\n"
     ]
    }
   ],
   "source": [
    "Q = []\n",
    "push(14)\n",
    "print(Q)\n",
    "pop()\n",
    "pop()\n",
    "empty()\n",
    "push(100)\n",
    "push(10)\n",
    "print(size())\n",
    "print(Q)"
   ]
  },
  {
   "cell_type": "code",
   "execution_count": 30,
   "metadata": {},
   "outputs": [
    {
     "output_type": "stream",
     "name": "stdout",
     "text": [
      "1\n2\n2\n0\n1\n2\n-1\n0\n1\n-1\n0\n3\n"
     ]
    }
   ],
   "source": [
    "Q=[]\n",
    "push(1)\n",
    "push(2)\n",
    "front()\n",
    "# print(Q)\n",
    "back()\n",
    "# print(Q)\n",
    "print(size())\n",
    "# print(Q)\n",
    "empty()\n",
    "# print(Q)\n",
    "pop()\n",
    "# print(Q)\n",
    "pop()\n",
    "# print(Q)\n",
    "pop()\n",
    "# print(Q)\n",
    "print(size())\n",
    "# print(Q)\n",
    "empty()\n",
    "# print(Q)\n",
    "pop()\n",
    "# print(Q)\n",
    "push(3)\n",
    "empty()\n",
    "front()"
   ]
  },
  {
   "cell_type": "code",
   "execution_count": 3,
   "id": "hollow-offense",
   "metadata": {},
   "outputs": [
    {
     "name": "stdout",
     "output_type": "stream",
     "text": [
      "retired..\n",
      "worker is gone.\n"
     ]
    }
   ],
   "source": [
    "# 이 코드 블럭을 실행하기 전까지는 일꾼 스레드는 종료하지 않습니다. \n",
    "Stopped = True    # 일꾼 일 그만하라고 세팅해 줍시다. \n",
    "t.join()                    # 일꾼 스레드가 종료할때까지 기다립니다. \n",
    "print('worker is gone.')"
   ]
  },
  {
   "cell_type": "markdown",
   "id": "nuclear-concert",
   "metadata": {},
   "source": [
    "테스트\n"
   ]
  }
 ],
 "metadata": {
  "kernelspec": {
   "display_name": "aiffel",
   "language": "python",
   "name": "aiffel"
  },
  "language_info": {
   "codemirror_mode": {
    "name": "ipython",
    "version": 3
   },
   "file_extension": ".py",
   "mimetype": "text/x-python",
   "name": "python",
   "nbconvert_exporter": "python",
   "pygments_lexer": "ipython3",
   "version": "3.7.9-final"
  }
 },
 "nbformat": 4,
 "nbformat_minor": 5
}